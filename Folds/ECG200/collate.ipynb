{
 "cells": [
  {
   "cell_type": "code",
   "execution_count": 1,
   "metadata": {},
   "outputs": [],
   "source": [
    "using JLD2\n",
    "using MPSTime"
   ]
  },
  {
   "cell_type": "code",
   "execution_count": 2,
   "metadata": {},
   "outputs": [],
   "source": []
  },
  {
   "cell_type": "code",
   "execution_count": 3,
   "metadata": {},
   "outputs": [],
   "source": []
  },
  {
   "cell_type": "code",
   "execution_count": null,
   "metadata": {},
   "outputs": [
    {
     "data": {
      "text/plain": [
       "process_dir (generic function with 1 method)"
      ]
     },
     "metadata": {},
     "output_type": "display_data"
    }
   ],
   "source": [
    "function get_fold(fname::String)\n",
    "    i_start = 2\n",
    "    i_end = i_start\n",
    "    while fname[i_end] !== '.'\n",
    "        i_end +=1\n",
    "    end\n",
    "    return parse(Int, fname[i_start:i_end-1]) \n",
    "\n",
    "end\n",
    "\n",
    "function process_dir(dir)\n",
    "    dir = strip(dir, '/')\n",
    "    files_raw = readdir(dir)\n",
    "    res = Dict{Int, Any}()\n",
    "    for file in files_raw\n",
    "        if length(file) > 5 && file[end-4:end] == \".jld2\"\n",
    "            path = dir*\"/\"*file\n",
    "            fold = get_fold(file)\n",
    "            @load path res_iter\n",
    "            res[fold] = res_iter\n",
    "        end\n",
    "    \n",
    "    end\n",
    "\n",
    "    return res\n",
    "end"
   ]
  },
  {
   "cell_type": "code",
   "execution_count": 5,
   "metadata": {},
   "outputs": [],
   "source": [
    "res = process_dir(\"ECG_classification_PSwarm/MisclassificationRate()_ParticleSwarm{Vector{Any}, Vector{Any}}(Any[], Any[], 0)_f=30_cv=5_iters=250_tmp\")\n",
    "@save \"ECG_classification_PSwarm.jld2\" res"
   ]
  },
  {
   "cell_type": "code",
   "execution_count": null,
   "metadata": {},
   "outputs": [],
   "source": []
  }
 ],
 "metadata": {
  "kernelspec": {
   "display_name": "Julia 1.11.5",
   "language": "julia",
   "name": "julia-1.11"
  },
  "language_info": {
   "file_extension": ".jl",
   "mimetype": "application/julia",
   "name": "julia",
   "version": "1.11.5"
  }
 },
 "nbformat": 4,
 "nbformat_minor": 2
}
