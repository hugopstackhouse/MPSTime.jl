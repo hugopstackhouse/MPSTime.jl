{
 "cells": [
  {
   "cell_type": "code",
   "execution_count": 28,
   "metadata": {},
   "outputs": [],
   "source": [
    "using JSON\n",
    "using Plots\n",
    "using JLD2\n",
    "using DelimitedFiles"
   ]
  },
  {
   "cell_type": "markdown",
   "metadata": {},
   "source": [
    "Julia-fy the resamples so that the indexes match up with the python folds"
   ]
  },
  {
   "cell_type": "code",
   "execution_count": 5,
   "metadata": {},
   "outputs": [],
   "source": [
    "rs_folds_python = JSON.Parser.parsefile(\"../Python/resample_folds_python_idx.json\");"
   ]
  },
  {
   "cell_type": "code",
   "execution_count": 21,
   "metadata": {},
   "outputs": [],
   "source": [
    "rs_folds_julia = Dict();\n",
    "for i in 0:29\n",
    "    train_idxs = rs_folds_python[\"$i\"][\"train\"] .+ 1\n",
    "    test_idxs = rs_folds_python[\"$i\"][\"test\"] .+ 1\n",
    "    rs_folds_julia[i] = Dict(\"train\" => train_idxs, \"test\" => test_idxs)\n",
    "end"
   ]
  },
  {
   "cell_type": "code",
   "execution_count": 30,
   "metadata": {},
   "outputs": [],
   "source": [
    "JLD2.@save \"resample_folds_julia_idx.jld2\" rs_folds_julia"
   ]
  },
  {
   "cell_type": "code",
   "execution_count": 31,
   "metadata": {},
   "outputs": [],
   "source": [
    "windows_python = JSON.Parser.parsefile(\"../Python/windows_python_idx.json\");"
   ]
  },
  {
   "cell_type": "code",
   "execution_count": 55,
   "metadata": {},
   "outputs": [],
   "source": [
    "windows_julia = Dict();\n",
    "for i in 0.05:0.10:0.95\n",
    "    new_pm = Int(round(i * 100))\n",
    "    windows = windows_python[\"$i\"]\n",
    "    w_converted = [w .+ 1 for w in windows]\n",
    "    windows_julia[new_pm] = w_converted\n",
    "end"
   ]
  },
  {
   "cell_type": "code",
   "execution_count": 57,
   "metadata": {},
   "outputs": [
    {
     "data": {
      "text/plain": [
       "Dict{String, Any} with 10 entries:\n",
       "  \"0.45\" => Any[Any[36, 37, 38, 39, 40, 41, 42, 43, 44, 45  …  69, 70, 71, 72, …\n",
       "  \"0.75\" => Any[Any[11, 12, 13, 14, 15, 16, 17, 18, 19, 20  …  73, 74, 75, 76, …\n",
       "  \"0.85\" => Any[Any[8, 9, 10, 11, 12, 13, 14, 15, 16, 17  …  80, 81, 82, 83, 84…\n",
       "  \"0.65\" => Any[Any[16, 17, 18, 19, 20, 21, 22, 23, 24, 25  …  68, 69, 70, 71, …\n",
       "  \"0.05\" => Any[Any[57, 58, 59, 60, 61], Any[77, 78, 79, 80, 81], Any[78, 79, 8…\n",
       "  \"0.95\" => Any[Any[2, 3, 4, 5, 6, 7, 8, 9, 10, 11  …  83, 84, 85, 86, 87, 88, …\n",
       "  \"0.25\" => Any[Any[64, 65, 66, 67, 68, 69, 70, 71, 72, 73  …  78, 79, 80, 81, …\n",
       "  \"0.15\" => Any[Any[11, 12, 13, 14, 15, 16, 17, 18, 19, 20, 21, 22, 23, 24], An…\n",
       "  \"0.55\" => Any[Any[25, 26, 27, 28, 29, 30, 31, 32, 33, 34  …  68, 69, 70, 71, …\n",
       "  \"0.35\" => Any[Any[14, 15, 16, 17, 18, 19, 20, 21, 22, 23  …  38, 39, 40, 41, …"
      ]
     },
     "metadata": {},
     "output_type": "display_data"
    }
   ],
   "source": [
    "windows_python"
   ]
  },
  {
   "cell_type": "code",
   "execution_count": 56,
   "metadata": {},
   "outputs": [
    {
     "data": {
      "text/plain": [
       "Dict{Any, Any} with 10 entries:\n",
       "  5  => [[58, 59, 60, 61, 62], [78, 79, 80, 81, 82], [79, 80, 81, 82, 83], [28,…\n",
       "  15 => [[12, 13, 14, 15, 16, 17, 18, 19, 20, 21, 22, 23, 24, 25], [81, 82, 83,…\n",
       "  35 => [[15, 16, 17, 18, 19, 20, 21, 22, 23, 24  …  39, 40, 41, 42, 43, 44, 45…\n",
       "  25 => [[65, 66, 67, 68, 69, 70, 71, 72, 73, 74  …  79, 80, 81, 82, 83, 84, 85…\n",
       "  45 => [[37, 38, 39, 40, 41, 42, 43, 44, 45, 46  …  70, 71, 72, 73, 74, 75, 76…\n",
       "  55 => [[26, 27, 28, 29, 30, 31, 32, 33, 34, 35  …  69, 70, 71, 72, 73, 74, 75…\n",
       "  65 => [[17, 18, 19, 20, 21, 22, 23, 24, 25, 26  …  69, 70, 71, 72, 73, 74, 75…\n",
       "  95 => [[3, 4, 5, 6, 7, 8, 9, 10, 11, 12  …  84, 85, 86, 87, 88, 89, 90, 91, 9…\n",
       "  85 => [[9, 10, 11, 12, 13, 14, 15, 16, 17, 18  …  81, 82, 83, 84, 85, 86, 87,…\n",
       "  75 => [[12, 13, 14, 15, 16, 17, 18, 19, 20, 21  …  74, 75, 76, 77, 78, 79, 80…"
      ]
     },
     "metadata": {},
     "output_type": "display_data"
    }
   ],
   "source": [
    "windows_julia"
   ]
  },
  {
   "cell_type": "code",
   "execution_count": null,
   "metadata": {},
   "outputs": [],
   "source": []
  }
 ],
 "metadata": {
  "kernelspec": {
   "display_name": "Julia 1.10.2",
   "language": "julia",
   "name": "julia-1.10"
  },
  "language_info": {
   "file_extension": ".jl",
   "mimetype": "application/julia",
   "name": "julia",
   "version": "1.10.2"
  }
 },
 "nbformat": 4,
 "nbformat_minor": 2
}
