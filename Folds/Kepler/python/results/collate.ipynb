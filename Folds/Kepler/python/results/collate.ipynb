{
 "cells": [
  {
   "cell_type": "code",
   "execution_count": 1,
   "id": "06cdb07e",
   "metadata": {},
   "outputs": [],
   "source": [
    "using Plots\n",
    "using StatsPlots\n",
    "using JLD2\n",
    "using MPSTime\n",
    "using StatsBase\n",
    "using Measures\n",
    "using LaTeXStrings\n",
    "using Pickle\n",
    "using PyCall"
   ]
  },
  {
   "cell_type": "code",
   "execution_count": 2,
   "id": "12e89912",
   "metadata": {},
   "outputs": [
    {
     "data": {
      "text/plain": [
       "PyObject <function load_pickle at 0x74775c5d2ac0>"
      ]
     },
     "metadata": {},
     "output_type": "display_data"
    }
   ],
   "source": [
    "py\"\"\"\n",
    "import pickle\n",
    " \n",
    "def load_pickle(fpath):\n",
    "    with open(fpath, \"rb\") as f:\n",
    "        data = pickle.load(f)\n",
    "    return data\n",
    "\"\"\"\n",
    "\n",
    "load_pickle = py\"load_pickle\""
   ]
  },
  {
   "cell_type": "code",
   "execution_count": 28,
   "id": "d72b193d",
   "metadata": {},
   "outputs": [],
   "source": [
    "pms = 5:10:95\n",
    "mmae_kepGD_britsi = Matrix{Float64}(undef, 5, length(pms))\n",
    "std_kepGD_britsi = Matrix{Float64}(undef, 5, length(pms))\n",
    "\n",
    "mmae_kepGD_cdrec = Matrix{Float64}(undef, 5, length(pms))\n",
    "std_kepGD_cdrec = Matrix{Float64}(undef, 5, length(pms))\n",
    "\n",
    "mmae_kepGD_csdi = Matrix{Float64}(undef, 5, length(pms))\n",
    "std_kepGD_csdi = Matrix{Float64}(undef, 5, length(pms))\n",
    "\n",
    "for i in 0:4\n",
    "    britsi_data = load_pickle(\"KEPGD_britsi_results_$i.pkl\")\n",
    "    cdrec_data = load_pickle(\"KEPGD_CDREC_results_$i.pkl\")\n",
    "    csdi_data = load_pickle(\"KEPGD_CSDI_results_$i.pkl\")\n",
    "\n",
    "    for (j, pm) in enumerate(pms)\n",
    "        britsi_data_by_fold = mean(britsi_data[pm]; dims=(2,3))\n",
    "        cdrec_data_by_fold = mean(cdrec_data[pm]; dims=(2,3))\n",
    "        csdi_data_by_fold = mean(csdi_data[pm]; dims=(2,3))\n",
    "\n",
    "        mmae_kepGD_britsi[i+1,j] = mean(britsi_data_by_fold)\n",
    "        std_kepGD_britsi[i+1,j] = std(britsi_data_by_fold)\n",
    "\n",
    "        mmae_kepGD_cdrec[i+1,j] = mean(cdrec_data_by_fold)\n",
    "        std_kepGD_cdrec[i+1,j] = std(cdrec_data_by_fold)\n",
    "\n",
    "        mmae_kepGD_csdi[i+1,j] = mean(csdi_data_by_fold)\n",
    "        std_kepGD_csdi[i+1,j] = std(csdi_data_by_fold)\n",
    "    end\n",
    "\n",
    "end"
   ]
  },
  {
   "cell_type": "code",
   "execution_count": 29,
   "id": "464e0680",
   "metadata": {},
   "outputs": [],
   "source": [
    "@save \"GD_pyalgs.jld2\" mmae_kepGD_britsi std_kepGD_britsi mmae_kepGD_cdrec std_kepGD_cdrec mmae_kepGD_csdi std_kepGD_csdi"
   ]
  },
  {
   "cell_type": "code",
   "execution_count": 5,
   "id": "50abf4bd",
   "metadata": {},
   "outputs": [],
   "source": [
    "pms = 5:10:95\n",
    "mmae_kepC6_britsi = Matrix{Float64}(undef, 5, length(pms))\n",
    "std_kepC6_britsi = Matrix{Float64}(undef, 5, length(pms))\n",
    "\n",
    "for i in 0:4\n",
    "    britsi_data = load_pickle(\"KEPC6_britsi_results_$i.pkl\")\n",
    "   \n",
    "\n",
    "    for (j, pm) in enumerate(pms)\n",
    "        britsi_data_by_fold = mean(britsi_data[pm]; dims=(2,3))\n",
    "       \n",
    "\n",
    "        mmae_kepC6_britsi[i+1,j] = mean(britsi_data_by_fold)\n",
    "        std_kepC6_britsi[i+1,j] = std(britsi_data_by_fold)\n",
    "\n",
    "    end\n",
    "\n",
    "end"
   ]
  },
  {
   "cell_type": "code",
   "execution_count": 6,
   "id": "e86790eb",
   "metadata": {},
   "outputs": [],
   "source": [
    "@save \"C6_britsi.jld2\" mmae_kepC6_britsi std_kepC6_britsi "
   ]
  },
  {
   "cell_type": "code",
   "execution_count": 62,
   "id": "6aed2f4f",
   "metadata": {},
   "outputs": [
    {
     "data": {
      "text/plain": [
       "30"
      ]
     },
     "metadata": {},
     "output_type": "display_data"
    }
   ],
   "source": [
    "Xs = rand(100,96)\n",
    "y_test=rand(50)\n",
    "ys = vcat(zeros(45), ones(55))\n",
    "\n",
    "nfolds = 30\n"
   ]
  },
  {
   "cell_type": "code",
   "execution_count": 63,
   "id": "8098c6dc",
   "metadata": {},
   "outputs": [
    {
     "data": {
      "text/plain": [
       "30-element Vector{Any}:\n",
       " ([29, 85, 93, 56, 41, 59, 98, 24, 78, 96  …  35, 32, 77, 65, 23, 30, 91, 10, 19, 17], [9, 94, 5, 1, 67, 69, 95, 48, 63, 38  …  52, 60, 16, 57, 37, 12, 66, 11, 18, 15])\n",
       " ([26, 74, 86, 43, 78, 14, 76, 3, 22, 7  …  5, 71, 91, 66, 63, 64, 61, 34, 35, 89], [55, 40, 68, 73, 84, 59, 79, 58, 54, 15  …  75, 8, 32, 10, 81, 60, 90, 87, 44, 85])\n",
       " ([51, 20, 5, 18, 74, 76, 65, 77, 91, 3  …  75, 2, 31, 60, 80, 44, 30, 96, 83, 95], [35, 4, 69, 0, 67, 57, 79, 48, 98, 42  …  62, 68, 78, 70, 37, 73, 72, 17, 11, 23])\n",
       " ([79, 45, 55, 12, 99, 98, 51, 69, 59, 8  …  36, 25, 61, 53, 54, 81, 67, 97, 92, 80], [76, 63, 37, 90, 0, 83, 73, 72, 48, 17  …  46, 88, 86, 52, 39, 47, 44, 21, 41, 93])\n",
       " ([7, 43, 92, 56, 97, 4, 83, 79, 33, 5  …  24, 21, 53, 13, 55, 61, 65, 71, 29, 14], [82, 31, 35, 1, 64, 12, 76, 30, 77, 96  …  34, 84, 85, 41, 0, 16, 20, 6, 38, 40])\n",
       " ([62, 74, 21, 84, 30, 60, 83, 5, 17, 15  …  16, 7, 39, 64, 46, 67, 0, 6, 14, 1], [80, 53, 54, 26, 12, 31, 18, 88, 11, 48  …  37, 61, 19, 36, 87, 23, 35, 78, 47, 68])\n",
       " ([62, 66, 86, 12, 29, 81, 67, 77, 11, 95  …  14, 24, 98, 20, 18, 13, 54, 96, 46, 93], [75, 26, 34, 19, 89, 94, 63, 78, 39, 38  …  60, 1, 99, 52, 21, 59, 71, 30, 69, 43])\n",
       " ([91, 44, 3, 81, 38, 41, 84, 8, 1, 71  …  53, 46, 93, 28, 34, 25, 92, 70, 31, 82], [85, 79, 5, 12, 55, 75, 54, 48, 63, 26  …  56, 40, 35, 60, 30, 52, 95, 88, 17, 19])\n",
       " ([59, 97, 42, 64, 2, 5, 82, 26, 7, 31  …  25, 12, 79, 33, 78, 36, 39, 8, 38, 98], [47, 40, 41, 89, 63, 6, 52, 16, 27, 76  …  91, 87, 32, 35, 21, 15, 23, 67, 43, 51])\n",
       " ([94, 53, 64, 49, 67, 17, 22, 25, 65, 88  …  8, 42, 36, 95, 92, 0, 31, 47, 10, 85], [78, 66, 26, 3, 4, 20, 76, 28, 7, 71  …  14, 19, 86, 18, 12, 45, 70, 38, 81, 29])\n",
       " ⋮\n",
       " ([81, 49, 41, 35, 32, 9, 55, 34, 92, 20  …  71, 28, 96, 89, 77, 99, 17, 70, 29, 62], [36, 47, 43, 80, 6, 21, 18, 40, 0, 58  …  65, 53, 42, 7, 56, 94, 72, 11, 87, 59])\n",
       " ([74, 37, 38, 96, 42, 97, 26, 2, 92, 91  …  3, 79, 6, 16, 75, 45, 93, 78, 17, 66], [67, 21, 83, 28, 52, 10, 44, 95, 7, 24  …  86, 49, 36, 27, 64, 34, 4, 50, 31, 94])\n",
       " ([73, 28, 40, 72, 65, 84, 87, 86, 25, 99  …  68, 74, 85, 93, 43, 27, 64, 17, 21, 46], [31, 90, 18, 83, 67, 62, 23, 16, 50, 6  …  94, 80, 57, 34, 20, 78, 11, 53, 38, 76])\n",
       " ([76, 73, 37, 24, 1, 80, 79, 93, 19, 99  …  23, 77, 13, 48, 74, 95, 43, 41, 71, 83], [58, 62, 66, 36, 65, 22, 34, 11, 57, 21  …  16, 12, 15, 44, 64, 89, 35, 52, 28, 72])\n",
       " ([55, 82, 22, 89, 64, 97, 26, 93, 49, 99  …  88, 29, 14, 31, 61, 45, 12, 1, 70, 18], [39, 2, 71, 0, 74, 51, 4, 57, 7, 81  …  95, 33, 59, 91, 78, 41, 63, 23, 52, 69])\n",
       " ([84, 12, 83, 61, 13, 86, 60, 70, 96, 36  …  5, 66, 73, 77, 85, 44, 14, 27, 39, 64], [18, 37, 79, 48, 98, 20, 82, 90, 54, 19  …  42, 35, 89, 22, 91, 97, 34, 4, 10, 31])\n",
       " ([99, 33, 23, 31, 14, 51, 84, 34, 55, 66  …  67, 35, 80, 60, 50, 48, 95, 44, 75, 47], [38, 85, 76, 19, 1, 5, 0, 82, 36, 52  …  43, 12, 96, 18, 93, 22, 68, 15, 29, 32])\n",
       " ([99, 55, 66, 39, 56, 81, 75, 85, 46, 58  …  40, 34, 80, 19, 13, 16, 6, 64, 87, 8], [3, 44, 26, 53, 95, 68, 60, 20, 33, 73  …  52, 71, 37, 9, 45, 42, 98, 86, 59, 1])\n",
       " ([2, 49, 24, 13, 15, 89, 14, 60, 67, 97  …  75, 0, 46, 39, 90, 57, 45, 81, 12, 40], [99, 53, 6, 96, 76, 17, 85, 59, 10, 32  …  51, 71, 63, 48, 25, 36, 83, 33, 3, 50])"
      ]
     },
     "metadata": {},
     "output_type": "display_data"
    }
   ],
   "source": [
    "py\"\"\"\n",
    "from sklearn.model_selection import StratifiedShuffleSplit\n",
    "sp = StratifiedShuffleSplit(n_splits=$nfolds, test_size=$(length(y_test)), random_state=1)\n",
    "folds_py = sp.split($Xs, $ys)\n",
    "\"\"\"\n",
    "folds = collect(py\"folds_py\")"
   ]
  },
  {
   "cell_type": "code",
   "execution_count": null,
   "id": "c6c544b0",
   "metadata": {},
   "outputs": [
    {
     "data": {
      "text/plain": [
       "5-element Vector{Any}:\n",
       " ([29, 85, 93, 56, 41, 59, 98, 24, 78, 96  …  35, 32, 77, 65, 23, 30, 91, 10, 19, 17], [9, 94, 5, 1, 67, 69, 95, 48, 63, 38  …  52, 60, 16, 57, 37, 12, 66, 11, 18, 15])\n",
       " ([26, 74, 86, 43, 78, 14, 76, 3, 22, 7  …  5, 71, 91, 66, 63, 64, 61, 34, 35, 89], [55, 40, 68, 73, 84, 59, 79, 58, 54, 15  …  75, 8, 32, 10, 81, 60, 90, 87, 44, 85])\n",
       " ([51, 20, 5, 18, 74, 76, 65, 77, 91, 3  …  75, 2, 31, 60, 80, 44, 30, 96, 83, 95], [35, 4, 69, 0, 67, 57, 79, 48, 98, 42  …  62, 68, 78, 70, 37, 73, 72, 17, 11, 23])\n",
       " ([79, 45, 55, 12, 99, 98, 51, 69, 59, 8  …  36, 25, 61, 53, 54, 81, 67, 97, 92, 80], [76, 63, 37, 90, 0, 83, 73, 72, 48, 17  …  46, 88, 86, 52, 39, 47, 44, 21, 41, 93])\n",
       " ([7, 43, 92, 56, 97, 4, 83, 79, 33, 5  …  24, 21, 53, 13, 55, 61, 65, 71, 29, 14], [82, 31, 35, 1, 64, 12, 76, 30, 77, 96  …  34, 84, 85, 41, 0, 16, 20, 6, 38, 40])"
      ]
     },
     "metadata": {},
     "output_type": "display_data"
    }
   ],
   "source": []
  },
  {
   "cell_type": "code",
   "execution_count": 58,
   "id": "091e8204",
   "metadata": {},
   "outputs": [
    {
     "data": {
      "text/plain": [
       "50-element Vector{Int64}:\n",
       " 29\n",
       " 85\n",
       " 93\n",
       " 56\n",
       " 41\n",
       " 59\n",
       " 98\n",
       " 24\n",
       " 78\n",
       " 96\n",
       "  ⋮\n",
       " 32\n",
       " 77\n",
       " 65\n",
       " 23\n",
       " 30\n",
       " 91\n",
       " 10\n",
       " 19\n",
       " 17"
      ]
     },
     "metadata": {},
     "output_type": "display_data"
    }
   ],
   "source": [
    "folds[1][1]"
   ]
  },
  {
   "cell_type": "code",
   "execution_count": null,
   "id": "244579d3",
   "metadata": {},
   "outputs": [],
   "source": []
  }
 ],
 "metadata": {
  "kernelspec": {
   "display_name": "Julia 1.11.5",
   "language": "julia",
   "name": "julia-1.11"
  },
  "language_info": {
   "file_extension": ".jl",
   "mimetype": "application/julia",
   "name": "julia",
   "version": "1.11.5"
  }
 },
 "nbformat": 4,
 "nbformat_minor": 5
}
