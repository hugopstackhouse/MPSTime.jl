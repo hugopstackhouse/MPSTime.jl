{
 "cells": [
  {
   "cell_type": "code",
   "execution_count": 15,
   "id": "06cdb07e",
   "metadata": {},
   "outputs": [],
   "source": [
    "using Plots\n",
    "using StatsPlots\n",
    "using JLD2\n",
    "using MPSTime\n",
    "using StatsBase\n",
    "using Measures\n",
    "using LaTeXStrings\n",
    "using Pickle\n",
    "using PyCall"
   ]
  },
  {
   "cell_type": "code",
   "execution_count": 16,
   "id": "12e89912",
   "metadata": {},
   "outputs": [
    {
     "data": {
      "text/plain": [
       "PyObject <function load_pickle at 0x73953edd2b60>"
      ]
     },
     "metadata": {},
     "output_type": "display_data"
    }
   ],
   "source": [
    "py\"\"\"\n",
    "import pickle\n",
    " \n",
    "def load_pickle(fpath):\n",
    "    with open(fpath, \"rb\") as f:\n",
    "        data = pickle.load(f)\n",
    "    return data\n",
    "\"\"\"\n",
    "\n",
    "load_pickle = py\"load_pickle\""
   ]
  },
  {
   "cell_type": "code",
   "execution_count": 28,
   "id": "d72b193d",
   "metadata": {},
   "outputs": [],
   "source": [
    "pms = 5:10:95\n",
    "mmae_kepGD_britsi = Matrix{Float64}(undef, 5, length(pms))\n",
    "std_kepGD_britsi = Matrix{Float64}(undef, 5, length(pms))\n",
    "\n",
    "mmae_kepGD_cdrec = Matrix{Float64}(undef, 5, length(pms))\n",
    "std_kepGD_cdrec = Matrix{Float64}(undef, 5, length(pms))\n",
    "\n",
    "mmae_kepGD_csdi = Matrix{Float64}(undef, 5, length(pms))\n",
    "std_kepGD_csdi = Matrix{Float64}(undef, 5, length(pms))\n",
    "\n",
    "for i in 0:4\n",
    "    britsi_data = load_pickle(\"KEPGD_britsi_results_$i.pkl\")\n",
    "    cdrec_data = load_pickle(\"KEPGD_CDREC_results_$i.pkl\")\n",
    "    csdi_data = load_pickle(\"KEPGD_CSDI_results_$i.pkl\")\n",
    "\n",
    "    for (j, pm) in enumerate(pms)\n",
    "        britsi_data_by_fold = mean(britsi_data[pm]; dims=(2,3))\n",
    "        cdrec_data_by_fold = mean(cdrec_data[pm]; dims=(2,3))\n",
    "        csdi_data_by_fold = mean(csdi_data[pm]; dims=(2,3))\n",
    "\n",
    "        mmae_kepGD_britsi[i+1,j] = mean(britsi_data_by_fold)\n",
    "        std_kepGD_britsi[i+1,j] = std(britsi_data_by_fold)\n",
    "\n",
    "        mmae_kepGD_cdrec[i+1,j] = mean(cdrec_data_by_fold)\n",
    "        std_kepGD_cdrec[i+1,j] = std(cdrec_data_by_fold)\n",
    "\n",
    "        mmae_kepGD_csdi[i+1,j] = mean(csdi_data_by_fold)\n",
    "        std_kepGD_csdi[i+1,j] = std(csdi_data_by_fold)\n",
    "    end\n",
    "\n",
    "end"
   ]
  },
  {
   "cell_type": "code",
   "execution_count": 29,
   "id": "464e0680",
   "metadata": {},
   "outputs": [],
   "source": [
    "@save \"GD_pyalgs.jld2\" mmae_kepGD_britsi std_kepGD_britsi mmae_kepGD_cdrec std_kepGD_cdrec mmae_kepGD_csdi std_kepGD_csdi"
   ]
  },
  {
   "cell_type": "code",
   "execution_count": null,
   "id": "50abf4bd",
   "metadata": {},
   "outputs": [],
   "source": []
  },
  {
   "cell_type": "code",
   "execution_count": null,
   "id": "6aed2f4f",
   "metadata": {},
   "outputs": [],
   "source": []
  }
 ],
 "metadata": {
  "kernelspec": {
   "display_name": "Julia 1.11.5",
   "language": "julia",
   "name": "julia-1.11"
  },
  "language_info": {
   "file_extension": ".jl",
   "mimetype": "application/julia",
   "name": "julia",
   "version": "1.11.5"
  }
 },
 "nbformat": 4,
 "nbformat_minor": 5
}
