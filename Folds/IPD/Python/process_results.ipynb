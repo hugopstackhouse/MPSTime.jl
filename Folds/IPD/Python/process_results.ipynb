{
 "cells": [
  {
   "cell_type": "code",
   "execution_count": 2,
   "metadata": {},
   "outputs": [],
   "source": [
    "import pickle\n",
    "import matplotlib.pyplot as plt\n",
    "import numpy as np\n",
    "import json"
   ]
  },
  {
   "cell_type": "markdown",
   "metadata": {},
   "source": [
    "# CSDI"
   ]
  },
  {
   "cell_type": "code",
   "execution_count": 2,
   "metadata": {},
   "outputs": [],
   "source": [
    "f = open(\"ipd_csdi_30_fold_results.pkl\", \"rb\")\n",
    "csdi_results = pickle.load(f)"
   ]
  },
  {
   "cell_type": "markdown",
   "metadata": {},
   "source": [
    "mean over instances for 5 % missing"
   ]
  },
  {
   "cell_type": "code",
   "execution_count": 3,
   "metadata": {},
   "outputs": [
    {
     "data": {
      "text/plain": [
       "dict_keys([0, 1, 2, 3, 4, 5, 6, 7, 8, 9, 10, 11, 12, 13, 14, 15, 16, 17, 18, 19, 20, 21, 22, 23, 24, 25, 26, 27, 28, 29])"
      ]
     },
     "execution_count": 3,
     "metadata": {},
     "output_type": "execute_result"
    }
   ],
   "source": [
    "csdi_results.keys()"
   ]
  },
  {
   "cell_type": "code",
   "execution_count": 5,
   "metadata": {},
   "outputs": [
    {
     "data": {
      "text/plain": [
       "dict_keys([0, 1, 2, 3, 4, 5, 6, 7, 8, 9, 10, 11, 12, 13, 14])"
      ]
     },
     "execution_count": 5,
     "metadata": {},
     "output_type": "execute_result"
    }
   ],
   "source": [
    "f0 = csdi_results[1] # fold 0 \n",
    "five_pt = f0[5]\n",
    "five_pt.keys()"
   ]
  },
  {
   "cell_type": "code",
   "execution_count": 6,
   "metadata": {},
   "outputs": [
    {
     "data": {
      "text/plain": [
       "0.38859879742590403"
      ]
     },
     "execution_count": 6,
     "metadata": {},
     "output_type": "execute_result"
    }
   ],
   "source": [
    "all_instances_all_iters = five_pt[0]\n",
    "for window_iter in range(1, 15):\n",
    "    all_instances_all_iters = np.hstack([all_instances_all_iters, five_pt[window_iter]])\n",
    "np.mean(all_instances_all_iters)"
   ]
  },
  {
   "cell_type": "code",
   "execution_count": 7,
   "metadata": {},
   "outputs": [],
   "source": [
    "fold_marginalised = csdi_results[0]\n",
    "percentage_missing_marginalised = fold_marginalised[85]\n",
    "all_instances_all_iters = percentage_missing_marginalised[0]"
   ]
  },
  {
   "cell_type": "code",
   "execution_count": 8,
   "metadata": {},
   "outputs": [
    {
     "data": {
      "text/plain": [
       "4"
      ]
     },
     "execution_count": 8,
     "metadata": {},
     "output_type": "execute_result"
    }
   ],
   "source": [
    "len(percentage_missing_marginalised)"
   ]
  },
  {
   "cell_type": "code",
   "execution_count": 13,
   "metadata": {},
   "outputs": [
    {
     "name": "stdout",
     "output_type": "stream",
     "text": [
      "0.5342855549867472, SE: 0.01091129097182267, 95% CI: 0.021386130304772433\n"
     ]
    }
   ],
   "source": [
    "pm = 95\n",
    "fold_means = []\n",
    "for fold in range(0, 30):\n",
    "    fold_marginalised = csdi_results[fold]\n",
    "    percentage_missing_marginalised = fold_marginalised[pm]\n",
    "    all_instances_all_iters = percentage_missing_marginalised[0]\n",
    "    for window_iter in range(1, len(percentage_missing_marginalised)):\n",
    "        all_instances_all_iters = np.hstack([all_instances_all_iters, percentage_missing_marginalised[window_iter]])\n",
    "    mean_val = np.mean(all_instances_all_iters)\n",
    "    #print(f\"fold {fold}: {mean_val}\")\n",
    "    fold_means.append(mean_val)\n",
    "\n",
    "overall_fold_mean = np.mean(fold_means)\n",
    "overall_fold_standard_error = 1.96 * np.std(fold_means)/np.sqrt(30)\n",
    "print(f\"{overall_fold_mean}, SE: {np.std(fold_means)/np.sqrt(30)}, 95% CI: {overall_fold_standard_error}\")"
   ]
  },
  {
   "cell_type": "markdown",
   "metadata": {},
   "source": [
    "Save for Julia"
   ]
  },
  {
   "cell_type": "code",
   "execution_count": 9,
   "metadata": {},
   "outputs": [],
   "source": [
    "with open(\"csdi_results.json\", \"w\") as f:\n",
    "    json.dump(csdi_results, f)"
   ]
  },
  {
   "cell_type": "markdown",
   "metadata": {},
   "source": [
    "# CDREC"
   ]
  },
  {
   "cell_type": "code",
   "execution_count": 3,
   "metadata": {},
   "outputs": [],
   "source": [
    "f2 = open(\"IPD_cdrec_30_fold_results.pkl\", \"rb\")\n",
    "cdrec_results = pickle.load(f2)"
   ]
  },
  {
   "cell_type": "code",
   "execution_count": 4,
   "metadata": {},
   "outputs": [
    {
     "data": {
      "text/plain": [
       "dict_keys([0, 1, 2, 3, 4, 5, 6, 7, 8, 9, 10, 11, 12, 13, 14, 15, 16, 17, 18, 19, 20, 21, 22, 23, 24, 25, 26, 27, 28, 29])"
      ]
     },
     "execution_count": 4,
     "metadata": {},
     "output_type": "execute_result"
    }
   ],
   "source": [
    "cdrec_results.keys()"
   ]
  },
  {
   "cell_type": "code",
   "execution_count": 5,
   "metadata": {},
   "outputs": [
    {
     "name": "stdout",
     "output_type": "stream",
     "text": [
      "0.4289783875512531, 95% CI: 0.05411506249934167\n"
     ]
    }
   ],
   "source": [
    "pm = 95\n",
    "fold_means = []\n",
    "for fold in range(0, 30):\n",
    "    fold_marginalised = cdrec_results[fold]\n",
    "    percentage_missing_marginalised = fold_marginalised[pm]\n",
    "    all_instances_all_iters = percentage_missing_marginalised[0]\n",
    "    for window_iter in range(1, len(percentage_missing_marginalised)):\n",
    "        all_instances_all_iters = np.hstack([all_instances_all_iters, percentage_missing_marginalised[window_iter]])\n",
    "    mean_val = np.mean(all_instances_all_iters)\n",
    "    #print(f\"fold {fold}: {mean_val}\")\n",
    "    fold_means.append(mean_val)\n",
    "\n",
    "overall_fold_mean = np.mean(fold_means)\n",
    "overall_fold_standard_error = 1.96 * np.std(fold_means)/np.sqrt(30)\n",
    "print(f\"{overall_fold_mean}, 95% CI: {overall_fold_standard_error}\")"
   ]
  },
  {
   "cell_type": "code",
   "execution_count": 7,
   "metadata": {},
   "outputs": [],
   "source": [
    "with open(\"ipd_cdrec_results.json\", \"w\") as f:\n",
    "    json.dump(cdrec_results, f)"
   ]
  },
  {
   "cell_type": "markdown",
   "metadata": {},
   "source": [
    "# BRITS"
   ]
  },
  {
   "cell_type": "code",
   "execution_count": 2,
   "metadata": {},
   "outputs": [],
   "source": [
    "f3 = open(\"IPD_brits_30_fold_results.pkl\", \"rb\")\n",
    "brits_results = pickle.load(f3)"
   ]
  },
  {
   "cell_type": "code",
   "execution_count": 3,
   "metadata": {},
   "outputs": [
    {
     "name": "stdout",
     "output_type": "stream",
     "text": [
      "0.40279073194490433, 95% CI: 0.04469893060225344\n"
     ]
    }
   ],
   "source": [
    "pm = 85\n",
    "fold_means = []\n",
    "for fold in range(0, 30):\n",
    "    fold_marginalised = brits_results[fold]\n",
    "    percentage_missing_marginalised = fold_marginalised[pm]\n",
    "    all_instances_all_iters = percentage_missing_marginalised[0]\n",
    "    for window_iter in range(1, len(percentage_missing_marginalised)):\n",
    "        all_instances_all_iters = np.hstack([all_instances_all_iters, percentage_missing_marginalised[window_iter]])\n",
    "    mean_val = np.mean(all_instances_all_iters)\n",
    "    #print(f\"fold {fold}: {mean_val}\")\n",
    "    fold_means.append(mean_val)\n",
    "\n",
    "overall_fold_mean = np.mean(fold_means)\n",
    "overall_fold_standard_error = 1.96 * np.std(fold_means)/np.sqrt(30)\n",
    "print(f\"{overall_fold_mean}, 95% CI: {overall_fold_standard_error}\")"
   ]
  },
  {
   "cell_type": "code",
   "execution_count": 4,
   "metadata": {},
   "outputs": [],
   "source": [
    "with open(\"ipd_brits_results.json\", \"w\") as f:\n",
    "    json.dump(brits_results, f)"
   ]
  },
  {
   "cell_type": "code",
   "execution_count": null,
   "metadata": {},
   "outputs": [],
   "source": []
  }
 ],
 "metadata": {
  "kernelspec": {
   "display_name": "Python 3",
   "language": "python",
   "name": "python3"
  },
  "language_info": {
   "codemirror_mode": {
    "name": "ipython",
    "version": 3
   },
   "file_extension": ".py",
   "mimetype": "text/x-python",
   "name": "python",
   "nbconvert_exporter": "python",
   "pygments_lexer": "ipython3",
   "version": "3.10.15"
  }
 },
 "nbformat": 4,
 "nbformat_minor": 2
}
