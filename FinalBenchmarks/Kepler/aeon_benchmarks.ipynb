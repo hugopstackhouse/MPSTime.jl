{
 "cells": [
  {
   "cell_type": "code",
   "execution_count": 2,
   "metadata": {},
   "outputs": [],
   "source": [
    "from aeon.classification.distance_based import KNeighborsTimeSeriesClassifier\n",
    "from aeon.datasets import load_classification\n",
    "from aeon.datasets import load_unit_test\n",
    "from sklearn.preprocessing import StandardScaler\n",
    "import matplotlib.pyplot as plt\n",
    "import numpy as np"
   ]
  },
  {
   "cell_type": "code",
   "execution_count": 3,
   "metadata": {},
   "outputs": [],
   "source": [
    "X_train_f, y_train_f = load_classification(name=\"KeplerLightCurves\", split=\"train\", return_metadata=False)\n",
    "X_test_f, y_test_f = load_classification(name=\"KeplerLightCurves\", split=\"test\", return_metadata=False)"
   ]
  },
  {
   "cell_type": "code",
   "execution_count": 193,
   "metadata": {},
   "outputs": [],
   "source": [
    "X_train = X_train_f.squeeze(axis=1)\n",
    "y_train = y_train_f.astype(int)\n",
    "X_test = X_test_f.squeeze(axis=1)\n",
    "y_test = y_test_f.astype(int)\n",
    "\n",
    "X_train_window = X_train[:, :500]   \n",
    "X_test_window = X_test[:, :500]"
   ]
  },
  {
   "cell_type": "code",
   "execution_count": 194,
   "metadata": {},
   "outputs": [],
   "source": [
    "class_a_tr_idxs = np.argwhere(y_train == 3).flatten()\n",
    "x_tr_class_a = X_train_window[class_a_tr_idxs, :]\n",
    "class_b_tr_idxs = np.argwhere(y_train == 5).flatten()\n",
    "x_tr_class_b = X_train_window[class_b_tr_idxs, :]\n",
    "X_train_sub = np.vstack([x_tr_class_a, x_tr_class_b])\n",
    "y_train_sub = np.concatenate([np.ones(len(class_a_tr_idxs), dtype=np.int8), 2*np.ones(len(class_b_tr_idxs), dtype=np.int8)])"
   ]
  },
  {
   "cell_type": "code",
   "execution_count": 195,
   "metadata": {},
   "outputs": [],
   "source": [
    "class_a_te_idxs = np.argwhere(y_test == 3).flatten()\n",
    "x_te_class_a = X_test_window[class_a_te_idxs, :]\n",
    "class_b_te_idxs = np.argwhere(y_test == 5).flatten()\n",
    "x_te_class_b = X_test_window[class_b_te_idxs, :]\n",
    "X_test_sub = np.vstack([x_te_class_a, x_te_class_b])\n",
    "y_test_sub = np.concatenate([np.ones(len(class_a_te_idxs), dtype=np.int8), 2*np.ones(len(class_b_te_idxs), dtype=np.int8)])"
   ]
  },
  {
   "cell_type": "code",
   "execution_count": 196,
   "metadata": {},
   "outputs": [
    {
     "name": "stdout",
     "output_type": "stream",
     "text": [
      "(427, 500)\n",
      "(427,)\n",
      "(185, 500)\n",
      "(185,)\n"
     ]
    }
   ],
   "source": [
    "print(X_train_sub.shape)\n",
    "print(y_train_sub.shape)\n",
    "print(X_test_sub.shape)\n",
    "print(y_test_sub.shape)"
   ]
  },
  {
   "cell_type": "code",
   "execution_count": 197,
   "metadata": {},
   "outputs": [],
   "source": [
    "# rescale the data\n",
    "zs = StandardScaler().fit(X_train_sub)\n",
    "X_train_sub_zs = zs.transform(X_train_sub)  \n",
    "X_test_sub_zs = zs.transform(X_test_sub)"
   ]
  },
  {
   "cell_type": "code",
   "execution_count": 201,
   "metadata": {},
   "outputs": [],
   "source": [
    "classifier = KNeighborsTimeSeriesClassifier(distance=\"dtw\")\n",
    "classifier.fit(X_train_sub_zs, y_train_sub)\n",
    "sc = classifier.score(X_test_sub_zs, y_test_sub)"
   ]
  },
  {
   "cell_type": "code",
   "execution_count": 202,
   "metadata": {},
   "outputs": [
    {
     "data": {
      "text/plain": [
       "0.918918918918919"
      ]
     },
     "execution_count": 202,
     "metadata": {},
     "output_type": "execute_result"
    }
   ],
   "source": [
    "sc"
   ]
  },
  {
   "cell_type": "code",
   "execution_count": null,
   "metadata": {},
   "outputs": [],
   "source": []
  },
  {
   "cell_type": "code",
   "execution_count": null,
   "metadata": {},
   "outputs": [],
   "source": []
  }
 ],
 "metadata": {
  "kernelspec": {
   "display_name": "Python 3",
   "language": "python",
   "name": "python3"
  },
  "language_info": {
   "codemirror_mode": {
    "name": "ipython",
    "version": 3
   },
   "file_extension": ".py",
   "mimetype": "text/x-python",
   "name": "python",
   "nbconvert_exporter": "python",
   "pygments_lexer": "ipython3",
   "version": "3.8.13"
  }
 },
 "nbformat": 4,
 "nbformat_minor": 2
}
