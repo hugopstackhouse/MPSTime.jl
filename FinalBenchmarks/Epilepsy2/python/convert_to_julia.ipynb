{
 "cells": [
  {
   "cell_type": "code",
   "execution_count": 8,
   "metadata": {},
   "outputs": [],
   "source": [
    "using Plots\n",
    "using JSON\n",
    "using JLD2"
   ]
  },
  {
   "cell_type": "code",
   "execution_count": 6,
   "metadata": {},
   "outputs": [],
   "source": [
    "folds_f = JSON.parsefile(\"epilepsy2_resample_folds_python_idx.json\");"
   ]
  },
  {
   "cell_type": "code",
   "execution_count": 7,
   "metadata": {},
   "outputs": [
    {
     "data": {
      "text/plain": [
       "Dict{String, Any} with 2 entries:\n",
       "  \"test\"  => Any[80, 81, 82, 83, 84, 85, 86, 87, 88, 89  …  11490, 11491, 11492…\n",
       "  \"train\" => Any[0, 1, 2, 3, 4, 5, 6, 7, 8, 9  …  70, 71, 72, 73, 74, 75, 76, 7…"
      ]
     },
     "metadata": {},
     "output_type": "display_data"
    }
   ],
   "source": [
    "folds_f[\"0\"]"
   ]
  },
  {
   "cell_type": "code",
   "execution_count": 11,
   "metadata": {},
   "outputs": [],
   "source": [
    "julia_folds = Dict()\n",
    "for f in 0:29\n",
    "    train_idxs = folds_f[\"$f\"][\"train\"]\n",
    "    train_idxs .+= 1\n",
    "    test_idxs = folds_f[\"$f\"][\"test\"]\n",
    "    test_idxs .+= 1\n",
    "    julia_folds[(f+1)] = Dict(\"train\" => train_idxs, \"test\" => test_idxs)\n",
    "end"
   ]
  },
  {
   "cell_type": "code",
   "execution_count": 18,
   "metadata": {},
   "outputs": [],
   "source": [
    "JLD2.@save \"epilepsy2_resample_folds_julia_idx.jld2\" julia_folds"
   ]
  },
  {
   "cell_type": "code",
   "execution_count": null,
   "metadata": {},
   "outputs": [],
   "source": []
  }
 ],
 "metadata": {
  "kernelspec": {
   "display_name": "Julia 1.11.1",
   "language": "julia",
   "name": "julia-1.11"
  },
  "language_info": {
   "file_extension": ".jl",
   "mimetype": "application/julia",
   "name": "julia",
   "version": "1.11.1"
  }
 },
 "nbformat": 4,
 "nbformat_minor": 2
}
