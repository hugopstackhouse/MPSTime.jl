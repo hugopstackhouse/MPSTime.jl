{
 "cells": [
  {
   "cell_type": "code",
   "execution_count": 5,
   "metadata": {},
   "outputs": [],
   "source": [
    "import matplotlib.pyplot as plt\n",
    "import sklearn\n",
    "import numpy as np\n",
    "from sklearn.model_selection import StratifiedShuffleSplit\n",
    "# import tsdb\n",
    "# import benchpots\n",
    "# from pypots.optim import Adam\n",
    "# from pypots.imputation import CSDI, MRNN, BRITS\n",
    "\n",
    "# from pypots.utils.random import set_random_seed\n",
    "# from pypots.utils.metrics import calc_mae\n",
    "import random\n",
    "import json\n",
    "\n",
    "#from cdrec.python.recovery import centroid_recovery as CDrec\n"
   ]
  },
  {
   "cell_type": "code",
   "execution_count": 6,
   "metadata": {},
   "outputs": [],
   "source": [
    "import numpy as np"
   ]
  },
  {
   "cell_type": "markdown",
   "metadata": {},
   "source": [
    "# 1. Import Original Train/Test Split"
   ]
  },
  {
   "cell_type": "code",
   "execution_count": 7,
   "metadata": {},
   "outputs": [
    {
     "name": "stdout",
     "output_type": "stream",
     "text": [
      "(100, 96)\n",
      "(100,)\n",
      "(100, 96)\n",
      "(100,)\n"
     ]
    }
   ],
   "source": [
    "train = np.loadtxt(\"ECG200_TRAIN.txt\")\n",
    "test = np.loadtxt(\"ECG200_TEST.txt\");\n",
    "X_train = train[:, 1:]\n",
    "y_train = train[:, 0]\n",
    "X_test = test[:, 1:]\n",
    "y_test = test[:, 0]\n",
    "print(X_train.shape)\n",
    "print(y_train.shape)\n",
    "print(X_test.shape)\n",
    "print(y_test.shape)"
   ]
  },
  {
   "cell_type": "code",
   "execution_count": 8,
   "metadata": {},
   "outputs": [
    {
     "name": "stdout",
     "output_type": "stream",
     "text": [
      "0.31\n"
     ]
    }
   ],
   "source": [
    "print(len(np.argwhere(y_train == -1).flatten())/len(y_train))"
   ]
  },
  {
   "cell_type": "code",
   "execution_count": 9,
   "metadata": {},
   "outputs": [
    {
     "name": "stdout",
     "output_type": "stream",
     "text": [
      "0.36\n"
     ]
    }
   ],
   "source": [
    "print(len(np.argwhere(y_test == -1).flatten())/len(y_test))"
   ]
  },
  {
   "cell_type": "markdown",
   "metadata": {},
   "source": [
    "# 2. Make 29 resampled folds"
   ]
  },
  {
   "cell_type": "code",
   "execution_count": 10,
   "metadata": {},
   "outputs": [],
   "source": [
    "Xs = np.vstack([X_train, X_test]) # recombined train and test \n",
    "ys = np.concatenate([y_train, y_test])"
   ]
  },
  {
   "cell_type": "code",
   "execution_count": 11,
   "metadata": {},
   "outputs": [],
   "source": [
    "ss = StratifiedShuffleSplit(n_splits=29, random_state=0, train_size=100)\n",
    "splits = ss.split(Xs, ys)"
   ]
  },
  {
   "cell_type": "code",
   "execution_count": 12,
   "metadata": {},
   "outputs": [],
   "source": [
    "fold_idxs = {0: {\"train\": np.arange(len(y_train)).tolist(), \"test\": np.arange(len(y_train), len(ys)).tolist()}} # append original dataset as fold 0\n",
    "for i, (train_idx, test_idx) in enumerate(ss.split(Xs, ys)):\n",
    "    sub_dict = {\"train\": train_idx.tolist(), \"test\": test_idx.tolist()}\n",
    "    fold_idxs[i+1] = sub_dict   "
   ]
  },
  {
   "cell_type": "markdown",
   "metadata": {},
   "source": [
    "Check class distributions"
   ]
  },
  {
   "cell_type": "code",
   "execution_count": 14,
   "metadata": {},
   "outputs": [
    {
     "name": "stdout",
     "output_type": "stream",
     "text": [
      "fold 0 | class 0: 0.31 | class 1: 0.69\n",
      "fold 0 | class 0: 0.36 | class 1: 0.64\n",
      "==================================================\n",
      "fold 1 | class 0: 0.33 | class 1: 0.67\n",
      "fold 1 | class 0: 0.34 | class 1: 0.66\n",
      "==================================================\n",
      "fold 2 | class 0: 0.33 | class 1: 0.67\n",
      "fold 2 | class 0: 0.34 | class 1: 0.66\n",
      "==================================================\n",
      "fold 3 | class 0: 0.33 | class 1: 0.67\n",
      "fold 3 | class 0: 0.34 | class 1: 0.66\n",
      "==================================================\n",
      "fold 4 | class 0: 0.34 | class 1: 0.66\n",
      "fold 4 | class 0: 0.33 | class 1: 0.67\n",
      "==================================================\n",
      "fold 5 | class 0: 0.33 | class 1: 0.67\n",
      "fold 5 | class 0: 0.34 | class 1: 0.66\n",
      "==================================================\n",
      "fold 6 | class 0: 0.34 | class 1: 0.66\n",
      "fold 6 | class 0: 0.33 | class 1: 0.67\n",
      "==================================================\n",
      "fold 7 | class 0: 0.34 | class 1: 0.66\n",
      "fold 7 | class 0: 0.33 | class 1: 0.67\n",
      "==================================================\n",
      "fold 8 | class 0: 0.33 | class 1: 0.67\n",
      "fold 8 | class 0: 0.34 | class 1: 0.66\n",
      "==================================================\n",
      "fold 9 | class 0: 0.34 | class 1: 0.66\n",
      "fold 9 | class 0: 0.33 | class 1: 0.67\n",
      "==================================================\n",
      "fold 10 | class 0: 0.34 | class 1: 0.66\n",
      "fold 10 | class 0: 0.33 | class 1: 0.67\n",
      "==================================================\n",
      "fold 11 | class 0: 0.34 | class 1: 0.66\n",
      "fold 11 | class 0: 0.33 | class 1: 0.67\n",
      "==================================================\n",
      "fold 12 | class 0: 0.34 | class 1: 0.66\n",
      "fold 12 | class 0: 0.33 | class 1: 0.67\n",
      "==================================================\n",
      "fold 13 | class 0: 0.34 | class 1: 0.66\n",
      "fold 13 | class 0: 0.33 | class 1: 0.67\n",
      "==================================================\n",
      "fold 14 | class 0: 0.34 | class 1: 0.66\n",
      "fold 14 | class 0: 0.33 | class 1: 0.67\n",
      "==================================================\n",
      "fold 15 | class 0: 0.34 | class 1: 0.66\n",
      "fold 15 | class 0: 0.33 | class 1: 0.67\n",
      "==================================================\n",
      "fold 16 | class 0: 0.33 | class 1: 0.67\n",
      "fold 16 | class 0: 0.34 | class 1: 0.66\n",
      "==================================================\n",
      "fold 17 | class 0: 0.33 | class 1: 0.67\n",
      "fold 17 | class 0: 0.34 | class 1: 0.66\n",
      "==================================================\n",
      "fold 18 | class 0: 0.33 | class 1: 0.67\n",
      "fold 18 | class 0: 0.34 | class 1: 0.66\n",
      "==================================================\n",
      "fold 19 | class 0: 0.34 | class 1: 0.66\n",
      "fold 19 | class 0: 0.33 | class 1: 0.67\n",
      "==================================================\n",
      "fold 20 | class 0: 0.33 | class 1: 0.67\n",
      "fold 20 | class 0: 0.34 | class 1: 0.66\n",
      "==================================================\n",
      "fold 21 | class 0: 0.33 | class 1: 0.67\n",
      "fold 21 | class 0: 0.34 | class 1: 0.66\n",
      "==================================================\n",
      "fold 22 | class 0: 0.33 | class 1: 0.67\n",
      "fold 22 | class 0: 0.34 | class 1: 0.66\n",
      "==================================================\n",
      "fold 23 | class 0: 0.33 | class 1: 0.67\n",
      "fold 23 | class 0: 0.34 | class 1: 0.66\n",
      "==================================================\n",
      "fold 24 | class 0: 0.34 | class 1: 0.66\n",
      "fold 24 | class 0: 0.33 | class 1: 0.67\n",
      "==================================================\n",
      "fold 25 | class 0: 0.34 | class 1: 0.66\n",
      "fold 25 | class 0: 0.33 | class 1: 0.67\n",
      "==================================================\n",
      "fold 26 | class 0: 0.33 | class 1: 0.67\n",
      "fold 26 | class 0: 0.34 | class 1: 0.66\n",
      "==================================================\n",
      "fold 27 | class 0: 0.34 | class 1: 0.66\n",
      "fold 27 | class 0: 0.33 | class 1: 0.67\n",
      "==================================================\n",
      "fold 28 | class 0: 0.34 | class 1: 0.66\n",
      "fold 28 | class 0: 0.33 | class 1: 0.67\n",
      "==================================================\n",
      "fold 29 | class 0: 0.33 | class 1: 0.67\n",
      "fold 29 | class 0: 0.34 | class 1: 0.66\n",
      "==================================================\n"
     ]
    }
   ],
   "source": [
    "for f in fold_idxs.keys():\n",
    "    train_idxs = fold_idxs[f][\"train\"]\n",
    "    test_idxs = fold_idxs[f][\"test\"]\n",
    "    class0_tr_counts = len(np.argwhere(ys[train_idxs] == -1))/len(ys[train_idxs])\n",
    "    class1_tr_counts = len(np.argwhere(ys[train_idxs] == 1))/len(ys[train_idxs])\n",
    "    class0_te_counts = len(np.argwhere(ys[test_idxs] == -1))/len(ys[test_idxs])\n",
    "    class1_te_counts = len(np.argwhere(ys[test_idxs] == 1))/len(ys[test_idxs])\n",
    "    print(f\"fold {f} | class 0: {class0_tr_counts} | class 1: {class1_tr_counts}\")\n",
    "    print(f\"fold {f} | class 0: {class0_te_counts} | class 1: {class1_te_counts}\")\n",
    "    print(\"=\"*50)"
   ]
  },
  {
   "cell_type": "markdown",
   "metadata": {},
   "source": [
    "# 3. Generate window locations"
   ]
  },
  {
   "cell_type": "code",
   "execution_count": 15,
   "metadata": {},
   "outputs": [],
   "source": [
    "ps = [0.05, 0.15, 0.25, 0.35, 0.45, 0.55, 0.65, 0.75, 0.85, 0.95]"
   ]
  },
  {
   "cell_type": "code",
   "execution_count": 24,
   "metadata": {},
   "outputs": [],
   "source": [
    "def generate_windows(T, fraction_missing, num_windows, seed=0):\n",
    "    np.random.seed(0)\n",
    "    num_pts = round(T*fraction_missing)\n",
    "    max_start_idx = T - num_pts # inclusive of start_idx\n",
    "    max_num_windows = len(np.arange(0, max_start_idx))\n",
    "    num_windows_choose = min(num_windows, max_num_windows)\n",
    "    start_idx = random.sample(np.arange(0, max_start_idx).tolist(), num_windows_choose)\n",
    "    windows = [np.arange(sidx, sidx+num_pts).tolist() for sidx in start_idx]\n",
    "    return windows"
   ]
  },
  {
   "cell_type": "code",
   "execution_count": 25,
   "metadata": {},
   "outputs": [],
   "source": [
    "window_per_percentage = dict()\n",
    "for p in ps:\n",
    "    window_per_percentage[p] = generate_windows(96, p, 15)"
   ]
  },
  {
   "cell_type": "code",
   "execution_count": 29,
   "metadata": {},
   "outputs": [
    {
     "data": {
      "text/plain": [
       "[[57, 58, 59, 60, 61],\n",
       " [77, 78, 79, 80, 81],\n",
       " [78, 79, 80, 81, 82],\n",
       " [27, 28, 29, 30, 31],\n",
       " [36, 37, 38, 39, 40],\n",
       " [48, 49, 50, 51, 52],\n",
       " [51, 52, 53, 54, 55],\n",
       " [49, 50, 51, 52, 53],\n",
       " [39, 40, 41, 42, 43],\n",
       " [74, 75, 76, 77, 78],\n",
       " [2, 3, 4, 5, 6],\n",
       " [55, 56, 57, 58, 59],\n",
       " [50, 51, 52, 53, 54],\n",
       " [73, 74, 75, 76, 77],\n",
       " [0, 1, 2, 3, 4]]"
      ]
     },
     "execution_count": 29,
     "metadata": {},
     "output_type": "execute_result"
    }
   ],
   "source": [
    "window_per_percentage[0.05]"
   ]
  },
  {
   "cell_type": "markdown",
   "metadata": {},
   "source": [
    "# 4. Save Data"
   ]
  },
  {
   "cell_type": "markdown",
   "metadata": {},
   "source": [
    "Save window idxs:"
   ]
  },
  {
   "cell_type": "code",
   "execution_count": 30,
   "metadata": {},
   "outputs": [],
   "source": [
    "with open('windows_python_idx.json', 'w') as f:\n",
    "    json.dump(window_per_percentage, f)"
   ]
  },
  {
   "cell_type": "markdown",
   "metadata": {},
   "source": [
    "Save resample fold idxs:"
   ]
  },
  {
   "cell_type": "code",
   "execution_count": 31,
   "metadata": {},
   "outputs": [],
   "source": [
    "with open('resample_folds_python_idx.json', 'w') as f:\n",
    "    json.dump(fold_idxs, f)"
   ]
  },
  {
   "cell_type": "markdown",
   "metadata": {},
   "source": [
    "# 4. Test"
   ]
  },
  {
   "cell_type": "code",
   "execution_count": null,
   "metadata": {},
   "outputs": [],
   "source": []
  }
 ],
 "metadata": {
  "kernelspec": {
   "display_name": "Python 3",
   "language": "python",
   "name": "python3"
  },
  "language_info": {
   "codemirror_mode": {
    "name": "ipython",
    "version": 3
   },
   "file_extension": ".py",
   "mimetype": "text/x-python",
   "name": "python",
   "nbconvert_exporter": "python",
   "pygments_lexer": "ipython3",
   "version": "3.10.15"
  }
 },
 "nbformat": 4,
 "nbformat_minor": 2
}
