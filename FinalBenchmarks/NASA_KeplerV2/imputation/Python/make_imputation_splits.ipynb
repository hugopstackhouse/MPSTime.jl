{
 "cells": [
  {
   "cell_type": "code",
   "execution_count": 2,
   "metadata": {},
   "outputs": [],
   "source": [
    "import matplotlib.pyplot as plt\n",
    "import sklearn\n",
    "import numpy as np\n",
    "from sklearn.model_selection import StratifiedShuffleSplit\n",
    "import random\n",
    "import json"
   ]
  },
  {
   "cell_type": "code",
   "execution_count": 4,
   "metadata": {},
   "outputs": [
    {
     "name": "stdout",
     "output_type": "stream",
     "text": [
      "(321, 4767)\n",
      "(321,)\n",
      "(81, 4767)\n",
      "(81,)\n"
     ]
    }
   ],
   "source": [
    "train = np.loadtxt(\"../../../../Data/NASA_KeplerV2/datasets/classification/KeplerBinaryOriBal_TRAIN.txt\")\n",
    "test = np.loadtxt(\"../../../../Data/NASA_KeplerV2/datasets/classification/KeplerBinaryOriBal_TEST.txt\");\n",
    "X_train = train[:, 1:]\n",
    "y_train = train[:, 0]\n",
    "X_test = test[:, 1:]\n",
    "y_test = test[:, 0]\n",
    "print(X_train.shape)\n",
    "print(y_train.shape)\n",
    "print(X_test.shape)\n",
    "print(y_test.shape)"
   ]
  },
  {
   "cell_type": "code",
   "execution_count": 7,
   "metadata": {},
   "outputs": [
    {
     "name": "stdout",
     "output_type": "stream",
     "text": [
      "0.4984423676012461\n",
      "0.5061728395061729\n",
      "0.5015576323987538\n",
      "0.49382716049382713\n"
     ]
    }
   ],
   "source": [
    "print(len(np.argwhere(y_train == 0).flatten())/len(y_train))\n",
    "print(len(np.argwhere(y_test == 0).flatten())/len(y_test))\n",
    "print(len(np.argwhere(y_train == 1).flatten())/len(y_train))\n",
    "print(len(np.argwhere(y_test == 1).flatten())/len(y_test))"
   ]
  },
  {
   "cell_type": "code",
   "execution_count": 8,
   "metadata": {},
   "outputs": [],
   "source": [
    "Xs = np.vstack([X_train, X_test]) # recombined train and test \n",
    "ys = np.concatenate([y_train, y_test])"
   ]
  },
  {
   "cell_type": "code",
   "execution_count": 9,
   "metadata": {},
   "outputs": [],
   "source": [
    "ss = StratifiedShuffleSplit(n_splits=29, random_state=0, train_size=X_train.shape[0])\n",
    "splits = ss.split(Xs, ys)"
   ]
  },
  {
   "cell_type": "code",
   "execution_count": 10,
   "metadata": {},
   "outputs": [],
   "source": [
    "fold_idxs = {0: {\"train\": np.arange(len(y_train)).tolist(), \"test\": np.arange(len(y_train), len(ys)).tolist()}} # append original dataset as fold 0\n",
    "for i, (train_idx, test_idx) in enumerate(ss.split(Xs, ys)):\n",
    "    sub_dict = {\"train\": train_idx.tolist(), \"test\": test_idx.tolist()}\n",
    "    fold_idxs[i+1] = sub_dict   "
   ]
  },
  {
   "cell_type": "code",
   "execution_count": 12,
   "metadata": {},
   "outputs": [
    {
     "name": "stdout",
     "output_type": "stream",
     "text": [
      "fold 0 | class 0: 0.4984423676012461 | class 1: 0.5015576323987538\n",
      "fold 0 | class 0: 0.5061728395061729 | class 1: 0.49382716049382713\n",
      "==================================================\n",
      "fold 1 | class 0: 0.4984423676012461 | class 1: 0.5015576323987538\n",
      "fold 1 | class 0: 0.5061728395061729 | class 1: 0.49382716049382713\n",
      "==================================================\n",
      "fold 2 | class 0: 0.4984423676012461 | class 1: 0.5015576323987538\n",
      "fold 2 | class 0: 0.5061728395061729 | class 1: 0.49382716049382713\n",
      "==================================================\n",
      "fold 3 | class 0: 0.4984423676012461 | class 1: 0.5015576323987538\n",
      "fold 3 | class 0: 0.5061728395061729 | class 1: 0.49382716049382713\n",
      "==================================================\n",
      "fold 4 | class 0: 0.4984423676012461 | class 1: 0.5015576323987538\n",
      "fold 4 | class 0: 0.5061728395061729 | class 1: 0.49382716049382713\n",
      "==================================================\n",
      "fold 5 | class 0: 0.4984423676012461 | class 1: 0.5015576323987538\n",
      "fold 5 | class 0: 0.5061728395061729 | class 1: 0.49382716049382713\n",
      "==================================================\n",
      "fold 6 | class 0: 0.4984423676012461 | class 1: 0.5015576323987538\n",
      "fold 6 | class 0: 0.5061728395061729 | class 1: 0.49382716049382713\n",
      "==================================================\n",
      "fold 7 | class 0: 0.4984423676012461 | class 1: 0.5015576323987538\n",
      "fold 7 | class 0: 0.5061728395061729 | class 1: 0.49382716049382713\n",
      "==================================================\n",
      "fold 8 | class 0: 0.5015576323987538 | class 1: 0.4984423676012461\n",
      "fold 8 | class 0: 0.49382716049382713 | class 1: 0.5061728395061729\n",
      "==================================================\n",
      "fold 9 | class 0: 0.4984423676012461 | class 1: 0.5015576323987538\n",
      "fold 9 | class 0: 0.5061728395061729 | class 1: 0.49382716049382713\n",
      "==================================================\n",
      "fold 10 | class 0: 0.5015576323987538 | class 1: 0.4984423676012461\n",
      "fold 10 | class 0: 0.49382716049382713 | class 1: 0.5061728395061729\n",
      "==================================================\n",
      "fold 11 | class 0: 0.5015576323987538 | class 1: 0.4984423676012461\n",
      "fold 11 | class 0: 0.49382716049382713 | class 1: 0.5061728395061729\n",
      "==================================================\n",
      "fold 12 | class 0: 0.5015576323987538 | class 1: 0.4984423676012461\n",
      "fold 12 | class 0: 0.49382716049382713 | class 1: 0.5061728395061729\n",
      "==================================================\n",
      "fold 13 | class 0: 0.5015576323987538 | class 1: 0.4984423676012461\n",
      "fold 13 | class 0: 0.49382716049382713 | class 1: 0.5061728395061729\n",
      "==================================================\n",
      "fold 14 | class 0: 0.4984423676012461 | class 1: 0.5015576323987538\n",
      "fold 14 | class 0: 0.5061728395061729 | class 1: 0.49382716049382713\n",
      "==================================================\n",
      "fold 15 | class 0: 0.5015576323987538 | class 1: 0.4984423676012461\n",
      "fold 15 | class 0: 0.49382716049382713 | class 1: 0.5061728395061729\n",
      "==================================================\n",
      "fold 16 | class 0: 0.4984423676012461 | class 1: 0.5015576323987538\n",
      "fold 16 | class 0: 0.5061728395061729 | class 1: 0.49382716049382713\n",
      "==================================================\n",
      "fold 17 | class 0: 0.4984423676012461 | class 1: 0.5015576323987538\n",
      "fold 17 | class 0: 0.5061728395061729 | class 1: 0.49382716049382713\n",
      "==================================================\n",
      "fold 18 | class 0: 0.4984423676012461 | class 1: 0.5015576323987538\n",
      "fold 18 | class 0: 0.5061728395061729 | class 1: 0.49382716049382713\n",
      "==================================================\n",
      "fold 19 | class 0: 0.4984423676012461 | class 1: 0.5015576323987538\n",
      "fold 19 | class 0: 0.5061728395061729 | class 1: 0.49382716049382713\n",
      "==================================================\n",
      "fold 20 | class 0: 0.5015576323987538 | class 1: 0.4984423676012461\n",
      "fold 20 | class 0: 0.49382716049382713 | class 1: 0.5061728395061729\n",
      "==================================================\n",
      "fold 21 | class 0: 0.5015576323987538 | class 1: 0.4984423676012461\n",
      "fold 21 | class 0: 0.49382716049382713 | class 1: 0.5061728395061729\n",
      "==================================================\n",
      "fold 22 | class 0: 0.4984423676012461 | class 1: 0.5015576323987538\n",
      "fold 22 | class 0: 0.5061728395061729 | class 1: 0.49382716049382713\n",
      "==================================================\n",
      "fold 23 | class 0: 0.4984423676012461 | class 1: 0.5015576323987538\n",
      "fold 23 | class 0: 0.5061728395061729 | class 1: 0.49382716049382713\n",
      "==================================================\n",
      "fold 24 | class 0: 0.5015576323987538 | class 1: 0.4984423676012461\n",
      "fold 24 | class 0: 0.49382716049382713 | class 1: 0.5061728395061729\n",
      "==================================================\n",
      "fold 25 | class 0: 0.5015576323987538 | class 1: 0.4984423676012461\n",
      "fold 25 | class 0: 0.49382716049382713 | class 1: 0.5061728395061729\n",
      "==================================================\n",
      "fold 26 | class 0: 0.5015576323987538 | class 1: 0.4984423676012461\n",
      "fold 26 | class 0: 0.49382716049382713 | class 1: 0.5061728395061729\n",
      "==================================================\n",
      "fold 27 | class 0: 0.5015576323987538 | class 1: 0.4984423676012461\n",
      "fold 27 | class 0: 0.49382716049382713 | class 1: 0.5061728395061729\n",
      "==================================================\n",
      "fold 28 | class 0: 0.5015576323987538 | class 1: 0.4984423676012461\n",
      "fold 28 | class 0: 0.49382716049382713 | class 1: 0.5061728395061729\n",
      "==================================================\n",
      "fold 29 | class 0: 0.5015576323987538 | class 1: 0.4984423676012461\n",
      "fold 29 | class 0: 0.49382716049382713 | class 1: 0.5061728395061729\n",
      "==================================================\n"
     ]
    }
   ],
   "source": [
    "for f in fold_idxs.keys():\n",
    "    train_idxs = fold_idxs[f][\"train\"]\n",
    "    test_idxs = fold_idxs[f][\"test\"]\n",
    "    class0_tr_counts = len(np.argwhere(ys[train_idxs] == 0))/len(ys[train_idxs])\n",
    "    class1_tr_counts = len(np.argwhere(ys[train_idxs] == 1))/len(ys[train_idxs])\n",
    "    class0_te_counts = len(np.argwhere(ys[test_idxs] == 0))/len(ys[test_idxs])\n",
    "    class1_te_counts = len(np.argwhere(ys[test_idxs] == 1))/len(ys[test_idxs])\n",
    "    print(f\"fold {f} | class 0: {class0_tr_counts} | class 1: {class1_tr_counts}\")\n",
    "    print(f\"fold {f} | class 0: {class0_te_counts} | class 1: {class1_te_counts}\")\n",
    "    print(\"=\"*50)"
   ]
  },
  {
   "cell_type": "code",
   "execution_count": null,
   "metadata": {},
   "outputs": [],
   "source": []
  }
 ],
 "metadata": {
  "kernelspec": {
   "display_name": "Python 3",
   "language": "python",
   "name": "python3"
  },
  "language_info": {
   "codemirror_mode": {
    "name": "ipython",
    "version": 3
   },
   "file_extension": ".py",
   "mimetype": "text/x-python",
   "name": "python",
   "nbconvert_exporter": "python",
   "pygments_lexer": "ipython3",
   "version": "3.9.6"
  }
 },
 "nbformat": 4,
 "nbformat_minor": 2
}
