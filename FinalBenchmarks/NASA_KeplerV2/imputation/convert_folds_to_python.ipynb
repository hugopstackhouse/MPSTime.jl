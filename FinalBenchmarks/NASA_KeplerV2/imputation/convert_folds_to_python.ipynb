{
 "cells": [
  {
   "cell_type": "code",
   "execution_count": null,
   "metadata": {},
   "outputs": [],
   "source": [
    "using JSON3\n",
    "using Plots\n",
    "using JLD2"
   ]
  },
  {
   "cell_type": "markdown",
   "metadata": {},
   "source": [
    "Load the folds for the two classes"
   ]
  },
  {
   "cell_type": "code",
   "execution_count": null,
   "metadata": {},
   "outputs": [],
   "source": [
    "c4_folds_f = jldopen(\"../kepler_c4_folds.jld2\", \"r\")\n",
    "c4_folds = read(c4_folds_f, \"folds\");\n",
    "c6_folds_f = jldopen(\"../kepler_c6_folds.jld2\", \"r\")\n",
    "c6_folds = read(c6_folds_f, \"folds\");"
   ]
  },
  {
   "cell_type": "code",
   "execution_count": null,
   "metadata": {},
   "outputs": [],
   "source": [
    "c4_dict = Dict{Int, Dict{Int, Dict{String, Vector{Vector{Float64}}}}}()\n",
    "for fold in 1:30\n",
    "    instance_dict = Dict{Int, Dict{String, Vector{Vector{Float64}}}}()\n",
    "    for instance in 1:25\n",
    "        train = c4_folds[fold][1][instance]\n",
    "        test = c4_folds[fold][2][instance]\n",
    "        instance_dict[instance] = Dict(\"train\" => train, \"test\" => test)\n",
    "    end\n",
    "    c4_dict[fold] = instance_dict\n",
    "end"
   ]
  },
  {
   "cell_type": "markdown",
   "metadata": {},
   "source": [
    "Save as JSON to open in python"
   ]
  },
  {
   "cell_type": "code",
   "execution_count": null,
   "metadata": {},
   "outputs": [
    {
     "data": {
      "text/plain": [
       "41-element Vector{Vector{Float64}}:\n",
       " [2.99002455339537e-6, 8.60607329732366e-5, -3.9232012912338e-5, 2.49058493896337e-5, -2.609441388568e-5, -4.1794484101354e-5, -3.97546104655699e-5, -1.59880659875711e-5, 2.14272710441499e-5, 1.85769517427881e-5  …  4.32359916091585e-7, 1.0163793177087e-6, -1.80348851708256e-5, 5.72123581416006e-5, -5.36165440689906e-6, -3.04350460682556e-5, 2.96132209103295e-5, 1.47295964225691e-5, -1.94887499349594e-5, -1.85129663039518e-5]\n",
       " [-1.81322881454005e-5, -2.16414987321834e-5, -2.16414987321834e-5, -2.51507093189662e-5, 3.89872036562489e-5, 7.51885131822227e-7, 1.49639586971562e-5, -2.26000745140453e-5, -1.55403368773399e-5, 1.99288611917314e-5  …  5.05706643283421e-6, 8.65258650861733e-6, -7.92658708492766e-6, 9.63941701870308e-6, 2.92080380799309e-5, -2.07702957710776e-5, -4.78711435867307e-5, 3.72417312055617e-6, -3.90373906777874e-5, -3.96271935294568e-5]\n",
       " [-2.69369169589861e-5, -1.34431385563349e-5, -1.34431385563349e-5, 5.06398463162583e-8, 2.0097556612142e-5, -2.74802803135188e-6, 2.10101416742159e-6, -1.83238991471324e-5, 1.34136536754648e-5, -7.18181573367005e-6  …  1.18427608150062e-5, 4.19499508640397e-5, 1.28704359203535e-5, 3.59332425085013e-5, 3.2290313377259e-5, -1.89815027646922e-5, 7.06499993974319e-6, 3.31115026441786e-5, -9.69981613696547e-7, -7.1945500903059e-5]\n",
       " [-4.99539431930707e-6, -2.88248466036034e-5, -4.79067165359837e-6, -1.50747396470141e-5, 7.14529980982981e-6, 3.02745514427771e-5, 1.22034974637253e-5, -5.86755651532656e-6, -1.17673567987531e-5, 3.97163325006611e-5  …  -2.94821118667077e-5, 1.70436615045677e-5, -1.6919345176003e-5, -5.21528201111732e-5, 1.11492128089807e-5, -2.02734199576948e-5, 5.43739451076553e-5, 2.37395496693882e-5, -1.51790469258284e-5, -8.97818269374184e-6]\n",
       " [9.74413001075813e-6, -2.21187169284764e-5, -9.72748051220051e-7, 1.12564271703697e-6, -4.1178160419042e-5, -1.65139390384539e-7, -8.05911761336819e-6, -1.59530958363518e-5, 1.75480411360729e-5, 2.55226211499648e-5  …  1.41727850425655e-5, 2.58034292746068e-5, 2.48203788293377e-5, 1.27205596490709e-5, -6.2504986315659e-6, 7.60812754396767e-6, -3.75375387395849e-6, -8.35006577881714e-7, 7.68382807081469e-6, -1.76099840309973e-5]\n",
       " [-9.00525737534963e-6, -1.81975895316988e-5, 1.00358939236767e-6, -1.8641970290334e-5, 4.50234572679786e-6, 3.68187438138934e-5, 1.23904260256325e-5, -4.01798017852784e-5, 3.38906736038203e-5, 4.75290671760886e-5  …  -2.26818753661373e-5, -3.24958491093597e-6, 1.81219071395677e-5, 1.20347257103193e-5, -3.48854075087335e-5, -1.68261282453841e-5, 4.21186307901777e-5, -7.67567707793404e-6, -3.54804020413768e-6, 5.79596669658677e-7]\n",
       " [4.26712351953018e-5, -2.41643568594796e-5, 7.37676974016388e-6, -2.59377105285008e-5, -2.13210333839253e-5, 1.230203236946e-5, 3.83369845152748e-5, -4.12119784256593e-5, 1.91865972020144e-5, -1.82696831769746e-5  …  1.6366931056333e-5, -3.13372085982699e-5, -6.06378405776375e-6, 1.92096404827424e-5, 1.91939848216416e-5, 2.84866548574403e-5, -1.64872684718098e-5, 3.09202172350531e-5, 2.51708588322463e-5, 2.70257721357581e-6]\n",
       " [-1.0897791632436e-5, 3.06224116610743e-5, -1.1394760695449e-5, -6.44512654579543e-6, 5.14449319173327e-5, 3.04108926971747e-5, 4.81705416556233e-5, 3.83115547347712e-5, 3.18531140016676e-5, -1.60353226417165e-5  …  -2.94985752513632e-6, -7.47944895440611e-6, 4.73305391528456e-5, -5.21648117057794e-6, 2.20359617855159e-5, -1.78329867646099e-5, 1.51706998238188e-5, -4.00922799985715e-5, -1.7954802143505e-5, -2.27945660424833e-5]\n",
       " [-1.93101908181337e-5, -1.22095956434087e-5, -6.10985561084743e-5, -3.80087952160935e-5, -4.33896110019205e-5, -5.87433385801361e-6, 5.1066204178607e-6, 1.78169192277533e-6, -3.0425499519815e-7, -2.76804789780538e-5  …  5.5090135087088e-7, 4.14180057217717e-5, -2.05110244639872e-5, 1.15569750057665e-5, -1.83042747203821e-6, 2.60199771028313e-5, 7.34656835132963e-6, -2.6526852247688e-5, 1.37964338025043e-5, -6.79974823225571e-6]\n",
       " [-3.76655009803883e-6, -1.26887792979424e-5, -1.03876472686837e-5, -8.08651523942494e-6, 1.28190921885318e-5, -3.450037747732e-5, -2.33821334079121e-5, -2.59549749475063e-5, 4.14390474104964e-5, -2.98899490487337e-5  …  2.53732143311591e-5, -3.38432163893287e-5, -3.73260975954359e-5, -1.95783139326222e-5, -1.83053026980851e-6, 8.63157728792086e-6, -1.51830987189516e-5, -5.32853469572547e-5, 2.5046693185149e-5, -1.97491853242138e-5]\n",
       " ⋮\n",
       " [2.19143419458723e-5, -2.70785125722206e-5, 2.77899706632168e-5, 2.7217723599704e-5, 2.33479425804095e-6, 2.7812511651959e-5, -4.5116732687811e-5, 3.20927559547268e-5, 7.58844326620434e-6, 2.3327646243354e-5  …  -5.27353465685776e-5, -6.67558578835159e-5, -2.76889874430974e-5, -2.67844727930289e-6, -2.89951531557975e-5, -4.5422032052489e-5, 2.79804023484154e-5, 1.49906493600582e-5, 2.79592356511316e-6, 1.81173374278476e-5]\n",
       " [-6.91444582847645e-5, -3.07785552959849e-5, 3.01456718339033e-5, -1.38402061540255e-5, -3.09006195855499e-5, -7.29425401169159e-6, 7.93572269885967e-6, -4.433589313102e-5, 2.98712199897633e-6, 4.60716709005382e-7  …  4.29800173773476e-6, -1.40932311598618e-5, -3.39849197772413e-5, 1.43619181908194e-5, -1.82756309117238e-5, -7.03596181559352e-5, -3.18836513815146e-5, 3.74909540745705e-5, 1.40524956596666e-5, -5.05484711921245e-5]\n",
       " [4.34599021830184e-5, 1.08003616455798e-5, 4.35020577719269e-5, -3.26671917876276e-5, 1.91311972919106e-6, 1.59243898899541e-5, -1.11916906624376e-5, 2.97753289857372e-6, -4.26853761239521e-5, -3.00300635869277e-6  …  -4.14574461118367e-5, -2.22567927427031e-5, -3.05613937356952e-6, -3.40774880580597e-5, 1.38534196861828e-5, -2.41149466662094e-6, -1.46952815627266e-5, 9.56018661635305e-6, 2.34971425092656e-5, -4.13409825461564e-6]\n",
       " [-1.35993656751321e-5, 3.04517321980668e-6, -9.2179108488466e-6, 4.17847663698456e-5, 3.65903716678107e-5, 2.76463392833159e-5, 6.77531646586793e-6, -3.63487089940495e-5, -3.44554624469584e-5, -1.79314762636107e-5  …  -1.70959187868469e-5, -1.80193893815073e-5, -2.25098196533491e-5, 4.54516339454258e-6, -2.08402601347135e-5, -6.29924774364632e-6, -6.87979853064569e-6, -4.92328407375453e-7, -1.83374446258711e-5, 5.49563804008724e-6]\n",
       " [7.20161741729619e-6, -1.74720674730455e-5, 8.1236200313306e-6, 3.67255441167114e-5, 4.47611281398919e-5, 2.24873525396241e-5, -2.86690874917728e-5, -2.22164956349413e-5, -3.23342080887912e-6, 4.51567895254357e-5  …  4.2583474816893e-5, 2.39875872325435e-5, 5.39169964819397e-6, 7.98222352293987e-6, 7.09339391843367e-5, 2.57486038093835e-5, -1.94367315655697e-5, 1.02530064297612e-5, -4.37904046128867e-5, -6.37357392019311e-6]\n",
       " [7.37559393670928e-6, -4.04240961682234e-6, 2.0737881860633e-5, -2.21206812061059e-5, -2.22127168294506e-5, 4.36692528630322e-5, 5.71114322456268e-6, 4.82045110827833e-6, -1.17621372672794e-5, -2.31412273170584e-5  …  2.39489233997414e-5, -2.22350184937437e-5, 3.50934730173336e-5, 1.15318612695647e-5, 3.87213624551963e-5, -1.05764697295729e-5, -5.45872061274988e-5, -6.66885993894084e-6, 1.46393033737535e-5, -8.77846173863439e-6]\n",
       " [-3.34646121070703e-5, -2.86041165658002e-5, 2.22999753278774e-5, -1.48462648985603e-5, -2.13392916206256e-5, 2.90297795993988e-5, -1.58405193859679e-5, -2.52775655251725e-6, -4.14422296768358e-6, 2.07709294822722e-5  …  2.01889128975674e-5, -1.5137660194231e-6, -1.60626232963423e-5, 2.07003230237035e-5, -2.59875544137422e-5, -1.06091482618975e-5, 4.7692578899472e-6, 4.43406664607515e-7, -1.77042877431699e-5, 5.59522892795705e-7]\n",
       " [2.36125826407196e-5, -1.38935959421715e-5, 1.67193004319e-6, -3.15931375993728e-6, -2.56642523452921e-5, -2.86237478928086e-5, 3.12087348242063e-6, 6.59889584797568e-6, -1.57428710223506e-6, 4.51487802801687e-5  …  -2.93414297667383e-5, -2.42715839249286e-6, 2.50702890596255e-5, 4.20002945245024e-6, 3.07660259253328e-5, 2.00773831531276e-5, 5.89881274035697e-5, 3.87883143986301e-5, 1.48851850029219e-5, -7.27032843395037e-6]\n",
       " [2.68257887853229e-5, -4.62341117346554e-6, 2.4791858986406e-5, 5.72400114784433e-6, 2.30156911351642e-6, 7.61310874952681e-6, -4.27204983082241e-5, 2.12886731867368e-5, 6.44556403750496e-6, 2.60286877626914e-5  …  3.64435856662348e-5, -1.37317435853213e-5, -3.57818164344881e-5, 3.64451114320818e-6, -6.16400476105561e-6, 3.51222054073563e-6, -3.45981467386736e-6, 1.84932774706104e-5, -2.44459908285144e-5, -1.57729236096582e-5]"
      ]
     },
     "metadata": {},
     "output_type": "display_data"
    }
   ],
   "source": [
    "c4_folds[1][1][1]"
   ]
  },
  {
   "cell_type": "code",
   "execution_count": null,
   "metadata": {},
   "outputs": [
    {
     "data": {
      "text/plain": [
       "65818411"
      ]
     },
     "metadata": {},
     "output_type": "display_data"
    }
   ],
   "source": [
    "open(\"c4_folds_python.json\", \"w\") do f \n",
    "    JSON3.write(f, c4_folds)\n",
    "end"
   ]
  },
  {
   "cell_type": "code",
   "execution_count": null,
   "metadata": {},
   "outputs": [
    {
     "data": {
      "text/plain": [
       "63352831"
      ]
     },
     "metadata": {},
     "output_type": "display_data"
    }
   ],
   "source": [
    "open(\"c6_folds_python.json\", \"w\") do f \n",
    "    JSON3.write(f, c6_folds)\n",
    "end"
   ]
  },
  {
   "cell_type": "code",
   "execution_count": 10,
   "metadata": {},
   "outputs": [],
   "source": [
    "import json\n",
    "import matplotlib.pyplot as plt\n",
    "import numpy as np"
   ]
  },
  {
   "cell_type": "code",
   "execution_count": 6,
   "metadata": {},
   "outputs": [],
   "source": [
    "with open(\"Python/c4_folds_python.json\") as f:\n",
    "    d = json.load(f)"
   ]
  },
  {
   "cell_type": "code",
   "execution_count": 8,
   "metadata": {},
   "outputs": [
    {
     "data": {
      "text/plain": [
       "2"
      ]
     },
     "execution_count": 8,
     "metadata": {},
     "output_type": "execute_result"
    }
   ],
   "source": [
    "len(d[0][0])"
   ]
  },
  {
   "cell_type": "code",
   "execution_count": 66,
   "metadata": {},
   "outputs": [],
   "source": [
    "train = np.array(d[0][0][1]).reshape(-1, 100, 1)\n",
    "test = np.array(d[0][1][1]).reshape(-1, 100, 1)"
   ]
  },
  {
   "cell_type": "code",
   "execution_count": 67,
   "metadata": {},
   "outputs": [],
   "source": [
    "merged = np.vstack([train, test])"
   ]
  },
  {
   "cell_type": "code",
   "execution_count": 71,
   "metadata": {},
   "outputs": [
    {
     "data": {
      "text/plain": [
       "3.58326083891303e-05"
      ]
     },
     "execution_count": 71,
     "metadata": {},
     "output_type": "execute_result"
    }
   ],
   "source": [
    "np.max(np.max(merged))"
   ]
  },
  {
   "cell_type": "code",
   "execution_count": 70,
   "metadata": {},
   "outputs": [
    {
     "data": {
      "text/plain": [
       "3.58326083891303e-05"
      ]
     },
     "execution_count": 70,
     "metadata": {},
     "output_type": "execute_result"
    }
   ],
   "source": [
    "np.max(np.max(merged, axis=1))"
   ]
  },
  {
   "cell_type": "code",
   "execution_count": 36,
   "metadata": {},
   "outputs": [
    {
     "data": {
      "text/plain": [
       "array([[[-8.56018136e-06],\n",
       "        [-3.17600238e-06],\n",
       "        [-2.04644975e-05],\n",
       "        [-2.60903909e-06],\n",
       "        [-3.01829173e-05],\n",
       "        [-7.23169125e-06],\n",
       "        [ 1.57195348e-05],\n",
       "        [-9.00132686e-06],\n",
       "        [-9.49297074e-06],\n",
       "        [ 1.58175559e-06],\n",
       "        [-9.05566865e-06],\n",
       "        [-1.18963413e-05],\n",
       "        [-5.60110263e-06],\n",
       "        [-5.38875963e-06],\n",
       "        [ 6.76379994e-06],\n",
       "        [-1.35016439e-05],\n",
       "        [-6.69693495e-07],\n",
       "        [-7.61165069e-06],\n",
       "        [ 3.08813863e-06],\n",
       "        [ 2.44246410e-06],\n",
       "        [-5.39665867e-07],\n",
       "        [ 6.59686599e-06],\n",
       "        [-1.09929279e-05],\n",
       "        [ 1.08913287e-05],\n",
       "        [ 6.78604038e-06],\n",
       "        [-2.72785061e-06],\n",
       "        [ 6.38339401e-06],\n",
       "        [-3.25187447e-06],\n",
       "        [-3.92583045e-06],\n",
       "        [ 1.07118152e-05],\n",
       "        [-4.57427254e-07],\n",
       "        [-2.28670586e-06],\n",
       "        [ 6.56097251e-06],\n",
       "        [ 7.83869401e-07],\n",
       "        [-1.53030275e-05],\n",
       "        [ 4.91946393e-06],\n",
       "        [ 1.18767530e-05],\n",
       "        [ 1.86471665e-05],\n",
       "        [ 1.29046001e-05],\n",
       "        [ 7.73709582e-06],\n",
       "        [-9.08680405e-06],\n",
       "        [ 4.84509102e-06],\n",
       "        [-3.69607751e-06],\n",
       "        [ 7.59006580e-06],\n",
       "        [-9.16665287e-06],\n",
       "        [ 3.02349244e-06],\n",
       "        [-8.25479644e-06],\n",
       "        [ 2.00997516e-05],\n",
       "        [-1.15754928e-06],\n",
       "        [ 4.60532506e-06],\n",
       "        [-1.69681024e-06],\n",
       "        [ 8.25341426e-06],\n",
       "        [-3.47833528e-06],\n",
       "        [-6.37834375e-07],\n",
       "        [ 9.75081706e-07],\n",
       "        [-2.02674253e-06],\n",
       "        [ 1.20628611e-05],\n",
       "        [ 1.25495760e-05],\n",
       "        [-4.31584374e-06],\n",
       "        [ 9.84815840e-06],\n",
       "        [-1.49888902e-06],\n",
       "        [-1.67851124e-06],\n",
       "        [ 1.84646978e-05],\n",
       "        [ 8.10653485e-06],\n",
       "        [ 4.35913021e-06],\n",
       "        [-1.35115093e-06],\n",
       "        [ 1.38932872e-06],\n",
       "        [ 1.34614637e-06],\n",
       "        [-4.47210540e-06],\n",
       "        [ 9.13449315e-07],\n",
       "        [-3.02235075e-06],\n",
       "        [-1.66403347e-06],\n",
       "        [-6.48194714e-06],\n",
       "        [-7.68121813e-06],\n",
       "        [ 5.27816813e-06],\n",
       "        [ 1.30214446e-05],\n",
       "        [ 1.26015733e-05],\n",
       "        [ 8.57831323e-07],\n",
       "        [-1.57754638e-05],\n",
       "        [ 1.12992252e-05],\n",
       "        [-1.46643638e-06],\n",
       "        [ 7.17982821e-06],\n",
       "        [-3.00290806e-07],\n",
       "        [ 1.41222156e-05],\n",
       "        [ 1.39044018e-06],\n",
       "        [-1.35192360e-06],\n",
       "        [ 2.36381076e-06],\n",
       "        [ 1.22314305e-05],\n",
       "        [-6.91013428e-06],\n",
       "        [-6.40831432e-06],\n",
       "        [ 6.01092836e-07],\n",
       "        [ 1.73721077e-06],\n",
       "        [ 6.99150317e-06],\n",
       "        [ 3.41686852e-07],\n",
       "        [ 7.17101628e-06],\n",
       "        [-6.92830942e-06],\n",
       "        [-1.76423918e-06],\n",
       "        [ 3.39983106e-06],\n",
       "        [ 1.29979574e-05],\n",
       "        [ 2.95630628e-06]],\n",
       "\n",
       "       [[ 1.37940121e-05],\n",
       "        [-5.81551082e-06],\n",
       "        [ 2.50667878e-06],\n",
       "        [-6.59206852e-06],\n",
       "        [ 4.13198515e-06],\n",
       "        [-1.59643112e-05],\n",
       "        [-1.49540043e-05],\n",
       "        [ 2.19322200e-06],\n",
       "        [ 7.85766634e-06],\n",
       "        [-1.26370623e-05],\n",
       "        [ 9.58027641e-06],\n",
       "        [ 2.21549843e-05],\n",
       "        [ 1.29245298e-06],\n",
       "        [ 2.04479233e-05],\n",
       "        [-6.98996637e-07],\n",
       "        [ 5.98548823e-06],\n",
       "        [-1.47638716e-05],\n",
       "        [ 9.16066265e-06],\n",
       "        [-2.44650929e-06],\n",
       "        [ 1.90049009e-05],\n",
       "        [-5.37713121e-07],\n",
       "        [-1.14765679e-05],\n",
       "        [ 9.30550999e-06],\n",
       "        [-6.35843302e-06],\n",
       "        [ 1.00781828e-05],\n",
       "        [ 7.73921020e-06],\n",
       "        [ 1.35557259e-05],\n",
       "        [ 1.92290047e-06],\n",
       "        [ 1.30031926e-06],\n",
       "        [-1.15331751e-05],\n",
       "        [ 3.02536953e-06],\n",
       "        [ 3.59206344e-08],\n",
       "        [-4.43927466e-06],\n",
       "        [ 3.29068863e-06],\n",
       "        [-2.20447949e-07],\n",
       "        [ 4.62801665e-06],\n",
       "        [ 2.24357101e-05],\n",
       "        [ 6.17404764e-06],\n",
       "        [-8.29200647e-06],\n",
       "        [-4.32279198e-07],\n",
       "        [ 1.81383040e-06],\n",
       "        [ 4.89256079e-06],\n",
       "        [ 4.47661716e-06],\n",
       "        [ 5.72351701e-06],\n",
       "        [ 7.89342477e-06],\n",
       "        [ 5.31673170e-06],\n",
       "        [-9.22000200e-06],\n",
       "        [ 1.13969444e-05],\n",
       "        [-1.70472265e-05],\n",
       "        [-7.11296965e-06],\n",
       "        [-6.88174140e-07],\n",
       "        [-2.03048479e-05],\n",
       "        [-9.05994840e-06],\n",
       "        [ 9.68779376e-06],\n",
       "        [-4.54039097e-06],\n",
       "        [-6.69229471e-06],\n",
       "        [-1.19597105e-05],\n",
       "        [ 9.41662234e-06],\n",
       "        [ 1.09836558e-05],\n",
       "        [ 1.25705347e-05],\n",
       "        [ 6.18351311e-06],\n",
       "        [ 1.13725042e-05],\n",
       "        [ 6.43219531e-06],\n",
       "        [-5.15681401e-06],\n",
       "        [ 3.79357385e-06],\n",
       "        [-7.05975334e-06],\n",
       "        [-4.59406880e-06],\n",
       "        [-1.86995602e-05],\n",
       "        [ 3.77462911e-06],\n",
       "        [ 2.00990291e-06],\n",
       "        [ 2.01110157e-07],\n",
       "        [ 4.07589707e-06],\n",
       "        [-1.13111940e-05],\n",
       "        [-7.21991822e-06],\n",
       "        [-1.30776639e-06],\n",
       "        [ 1.38820676e-05],\n",
       "        [ 4.70521981e-06],\n",
       "        [ 3.28265490e-06],\n",
       "        [ 6.09271477e-06],\n",
       "        [ 4.37140253e-06],\n",
       "        [-2.19308043e-06],\n",
       "        [ 1.07349610e-05],\n",
       "        [ 5.69103606e-07],\n",
       "        [ 6.67515874e-06],\n",
       "        [-1.33013902e-05],\n",
       "        [-1.16524724e-05],\n",
       "        [ 9.90439393e-06],\n",
       "        [ 6.76240969e-06],\n",
       "        [ 5.27467012e-06],\n",
       "        [ 3.78693054e-06],\n",
       "        [ 1.95637872e-05],\n",
       "        [ 1.56198920e-05],\n",
       "        [-4.04228438e-06],\n",
       "        [-1.16943091e-05],\n",
       "        [-1.34077584e-06],\n",
       "        [-1.58947484e-05],\n",
       "        [ 2.29621041e-06],\n",
       "        [-1.05893012e-05],\n",
       "        [ 2.26922661e-06],\n",
       "        [ 1.71991289e-06]]])"
      ]
     },
     "execution_count": 36,
     "metadata": {},
     "output_type": "execute_result"
    }
   ],
   "source": [
    "np.array(d[0][1][1]).reshape(-1, 100, 1)"
   ]
  },
  {
   "cell_type": "code",
   "execution_count": 33,
   "metadata": {},
   "outputs": [],
   "source": [
    "X_test_original = np.array(d[0][1][1])"
   ]
  },
  {
   "cell_type": "code",
   "execution_count": 34,
   "metadata": {},
   "outputs": [
    {
     "data": {
      "text/plain": [
       "100"
      ]
     },
     "execution_count": 34,
     "metadata": {},
     "output_type": "execute_result"
    }
   ],
   "source": [
    "len(X_test_original[0])"
   ]
  },
  {
   "cell_type": "code",
   "execution_count": 26,
   "metadata": {},
   "outputs": [
    {
     "data": {
      "text/plain": [
       "[<matplotlib.lines.Line2D at 0x132406b00>]"
      ]
     },
     "execution_count": 26,
     "metadata": {},
     "output_type": "execute_result"
    },
    {
     "data": {
      "image/png": "[encoded data removed]",
      "text/plain": [
       "<Figure size 640x480 with 1 Axes>"
      ]
     },
     "metadata": {},
     "output_type": "display_data"
    }
   ],
   "source": [
    "plt.plot(d[0][1][1][0])"
   ]
  },
  {
   "cell_type": "markdown",
   "metadata": {},
   "source": [
    "Windows"
   ]
  },
  {
   "cell_type": "code",
   "execution_count": null,
   "metadata": {},
   "outputs": [
    {
     "data": {
      "text/plain": [
       "Dict{Any, Any} with 10 entries:\n",
       "  0.05 => [[39, 40, 41, 42, 43], [8, 9, 10, 11, 12], [83, 84, 85, 86, 87], [11,…\n",
       "  0.95 => [[2, 3, 4, 5, 6, 7, 8, 9, 10, 11  …  87, 88, 89, 90, 91, 92, 93, 94, …\n",
       "  0.85 => [[2, 3, 4, 5, 6, 7, 8, 9, 10, 11  …  77, 78, 79, 80, 81, 82, 83, 84, …\n",
       "  0.15 => [[77, 78, 79, 80, 81, 82, 83, 84, 85, 86, 87, 88, 89, 90, 91], [64, 6…\n",
       "  0.55 => [[13, 14, 15, 16, 17, 18, 19, 20, 21, 22  …  58, 59, 60, 61, 62, 63, …\n",
       "  0.45 => [[7, 8, 9, 10, 11, 12, 13, 14, 15, 16  …  42, 43, 44, 45, 46, 47, 48,…\n",
       "  0.65 => [[2, 3, 4, 5, 6, 7, 8, 9, 10, 11  …  57, 58, 59, 60, 61, 62, 63, 64, …\n",
       "  0.75 => [[21, 22, 23, 24, 25, 26, 27, 28, 29, 30  …  86, 87, 88, 89, 90, 91, …\n",
       "  0.25 => [[58, 59, 60, 61, 62, 63, 64, 65, 66, 67  …  73, 74, 75, 76, 77, 78, …\n",
       "  0.35 => [[42, 43, 44, 45, 46, 47, 48, 49, 50, 51  …  67, 68, 69, 70, 71, 72, …"
      ]
     },
     "metadata": {},
     "output_type": "display_data"
    }
   ],
   "source": [
    "window_idxs_f = jldopen(\"/Users/joshua/Desktop/QuantumInspiredMLFinal/QuantumInspiredML/FinalBenchmarks/NASA_KeplerV2/kepler_windows_julia_idx.jld2\", \"r\");\n",
    "window_idxs = read(window_idxs_f, \"windows_per_percentage\")\n",
    "close(window_idxs_f)\n",
    "window_idxs_new = deepcopy(window_idxs)"
   ]
  },
  {
   "cell_type": "markdown",
   "metadata": {},
   "source": [
    "Adjust for python indexing"
   ]
  },
  {
   "cell_type": "code",
   "execution_count": null,
   "metadata": {},
   "outputs": [],
   "source": [
    "pms = 0.05:0.10:0.95\n",
    "for pm in pms\n",
    "    for win in window_idxs_new[pm]\n",
    "        win .-= 1\n",
    "    end\n",
    "end"
   ]
  },
  {
   "cell_type": "code",
   "execution_count": null,
   "metadata": {},
   "outputs": [
    {
     "data": {
      "text/plain": [
       "15-element Vector{Vector{Int64}}:\n",
       " [20, 21, 22, 23, 24, 25, 26, 27, 28, 29  …  85, 86, 87, 88, 89, 90, 91, 92, 93, 94]\n",
       " [11, 12, 13, 14, 15, 16, 17, 18, 19, 20  …  76, 77, 78, 79, 80, 81, 82, 83, 84, 85]\n",
       " [16, 17, 18, 19, 20, 21, 22, 23, 24, 25  …  81, 82, 83, 84, 85, 86, 87, 88, 89, 90]\n",
       " [4, 5, 6, 7, 8, 9, 10, 11, 12, 13  …  69, 70, 71, 72, 73, 74, 75, 76, 77, 78]\n",
       " [8, 9, 10, 11, 12, 13, 14, 15, 16, 17  …  73, 74, 75, 76, 77, 78, 79, 80, 81, 82]\n",
       " [6, 7, 8, 9, 10, 11, 12, 13, 14, 15  …  71, 72, 73, 74, 75, 76, 77, 78, 79, 80]\n",
       " [9, 10, 11, 12, 13, 14, 15, 16, 17, 18  …  74, 75, 76, 77, 78, 79, 80, 81, 82, 83]\n",
       " [12, 13, 14, 15, 16, 17, 18, 19, 20, 21  …  77, 78, 79, 80, 81, 82, 83, 84, 85, 86]\n",
       " [13, 14, 15, 16, 17, 18, 19, 20, 21, 22  …  78, 79, 80, 81, 82, 83, 84, 85, 86, 87]\n",
       " [3, 4, 5, 6, 7, 8, 9, 10, 11, 12  …  68, 69, 70, 71, 72, 73, 74, 75, 76, 77]\n",
       " [0, 1, 2, 3, 4, 5, 6, 7, 8, 9  …  65, 66, 67, 68, 69, 70, 71, 72, 73, 74]\n",
       " [1, 2, 3, 4, 5, 6, 7, 8, 9, 10  …  66, 67, 68, 69, 70, 71, 72, 73, 74, 75]\n",
       " [10, 11, 12, 13, 14, 15, 16, 17, 18, 19  …  75, 76, 77, 78, 79, 80, 81, 82, 83, 84]\n",
       " [22, 23, 24, 25, 26, 27, 28, 29, 30, 31  …  87, 88, 89, 90, 91, 92, 93, 94, 95, 96]\n",
       " [24, 25, 26, 27, 28, 29, 30, 31, 32, 33  …  89, 90, 91, 92, 93, 94, 95, 96, 97, 98]"
      ]
     },
     "metadata": {},
     "output_type": "display_data"
    }
   ],
   "source": [
    "window_idxs_new[0.75]"
   ]
  },
  {
   "cell_type": "code",
   "execution_count": null,
   "metadata": {},
   "outputs": [
    {
     "data": {
      "text/plain": [
       "15-element Vector{Vector{Int64}}:\n",
       " [21, 22, 23, 24, 25, 26, 27, 28, 29, 30  …  86, 87, 88, 89, 90, 91, 92, 93, 94, 95]\n",
       " [12, 13, 14, 15, 16, 17, 18, 19, 20, 21  …  77, 78, 79, 80, 81, 82, 83, 84, 85, 86]\n",
       " [17, 18, 19, 20, 21, 22, 23, 24, 25, 26  …  82, 83, 84, 85, 86, 87, 88, 89, 90, 91]\n",
       " [5, 6, 7, 8, 9, 10, 11, 12, 13, 14  …  70, 71, 72, 73, 74, 75, 76, 77, 78, 79]\n",
       " [9, 10, 11, 12, 13, 14, 15, 16, 17, 18  …  74, 75, 76, 77, 78, 79, 80, 81, 82, 83]\n",
       " [7, 8, 9, 10, 11, 12, 13, 14, 15, 16  …  72, 73, 74, 75, 76, 77, 78, 79, 80, 81]\n",
       " [10, 11, 12, 13, 14, 15, 16, 17, 18, 19  …  75, 76, 77, 78, 79, 80, 81, 82, 83, 84]\n",
       " [13, 14, 15, 16, 17, 18, 19, 20, 21, 22  …  78, 79, 80, 81, 82, 83, 84, 85, 86, 87]\n",
       " [14, 15, 16, 17, 18, 19, 20, 21, 22, 23  …  79, 80, 81, 82, 83, 84, 85, 86, 87, 88]\n",
       " [4, 5, 6, 7, 8, 9, 10, 11, 12, 13  …  69, 70, 71, 72, 73, 74, 75, 76, 77, 78]\n",
       " [1, 2, 3, 4, 5, 6, 7, 8, 9, 10  …  66, 67, 68, 69, 70, 71, 72, 73, 74, 75]\n",
       " [2, 3, 4, 5, 6, 7, 8, 9, 10, 11  …  67, 68, 69, 70, 71, 72, 73, 74, 75, 76]\n",
       " [11, 12, 13, 14, 15, 16, 17, 18, 19, 20  …  76, 77, 78, 79, 80, 81, 82, 83, 84, 85]\n",
       " [23, 24, 25, 26, 27, 28, 29, 30, 31, 32  …  88, 89, 90, 91, 92, 93, 94, 95, 96, 97]\n",
       " [25, 26, 27, 28, 29, 30, 31, 32, 33, 34  …  90, 91, 92, 93, 94, 95, 96, 97, 98, 99]"
      ]
     },
     "metadata": {},
     "output_type": "display_data"
    }
   ],
   "source": [
    "window_idxs[0.75]"
   ]
  },
  {
   "cell_type": "code",
   "execution_count": null,
   "metadata": {},
   "outputs": [],
   "source": [
    "window_idxs_orig"
   ]
  },
  {
   "cell_type": "code",
   "execution_count": null,
   "metadata": {},
   "outputs": [
    {
     "data": {
      "text/plain": [
       "19804"
      ]
     },
     "metadata": {},
     "output_type": "display_data"
    }
   ],
   "source": [
    "open(\"kepler_windows_python_idx.json\", \"w\") do f \n",
    "    JSON3.write(f, window_idxs_new)\n",
    "end"
   ]
  },
  {
   "cell_type": "code",
   "execution_count": null,
   "metadata": {},
   "outputs": [],
   "source": []
  }
 ],
 "metadata": {
  "kernelspec": {
   "display_name": "Python 3",
   "language": "python",
   "name": "python3"
  },
  "language_info": {
   "codemirror_mode": {
    "name": "ipython",
    "version": 3
   },
   "file_extension": ".py",
   "mimetype": "text/x-python",
   "name": "python",
   "nbconvert_exporter": "python",
   "pygments_lexer": "ipython3",
   "version": "3.10.15"
  }
 },
 "nbformat": 4,
 "nbformat_minor": 2
}
