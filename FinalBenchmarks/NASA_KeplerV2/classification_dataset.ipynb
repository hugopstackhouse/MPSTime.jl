{
 "cells": [
  {
   "cell_type": "code",
   "execution_count": 86,
   "metadata": {},
   "outputs": [],
   "source": [
    "using JLD2\n",
    "using Plots\n",
    "using DelimitedFiles\n",
    "using Random\n",
    "using StatsBase"
   ]
  },
  {
   "cell_type": "code",
   "execution_count": 3,
   "metadata": {},
   "outputs": [
    {
     "data": {
      "text/plain": [
       "\"/Users/joshua/Desktop/QuantumInspiredMLFinal/QuantumInspiredML/FinalBenchmarks/NASA_KeplerV2\""
      ]
     },
     "metadata": {},
     "output_type": "display_data"
    }
   ],
   "source": [
    "pwd()"
   ]
  },
  {
   "cell_type": "code",
   "execution_count": 7,
   "metadata": {},
   "outputs": [],
   "source": [
    "f = jldopen(\"../../Data/NASA_KeplerV2/datasets/KeplerLightCurveOrig.jld2\");\n",
    "X_train = read(f, \"X_train\")\n",
    "X_test = read(f, \"X_test\")\n",
    "y_train = read(f, \"y_train\")\n",
    "y_test = read(f, \"y_test\");"
   ]
  },
  {
   "cell_type": "code",
   "execution_count": null,
   "metadata": {},
   "outputs": [],
   "source": [
    "class_tr_idxs = [findall(x -> x .== class, y_train) for class in 0:6]\n",
    "class_te_idxs = [findall(x -> x .== class, y_test) for class in 0:6];"
   ]
  },
  {
   "cell_type": "code",
   "execution_count": 16,
   "metadata": {},
   "outputs": [
    {
     "data": {
      "text/plain": [
       "1"
      ]
     },
     "metadata": {},
     "output_type": "display_data"
    }
   ],
   "source": [
    "class_tr_idxs[1][1]"
   ]
  },
  {
   "cell_type": "markdown",
   "metadata": {},
   "source": [
    "# Class 2 (3) (Delta Scuti Var) vs Class 4 (5) (Rotational Variable)"
   ]
  },
  {
   "cell_type": "markdown",
   "metadata": {},
   "source": [
    "Check the number of instances for each class"
   ]
  },
  {
   "cell_type": "code",
   "execution_count": 89,
   "metadata": {},
   "outputs": [],
   "source": [
    "delta_scuti_train_idxs, delta_scuti_test_idxs = class_tr_idxs[3], class_te_idxs[3];\n",
    "rot_var_train_idxs, rot_var_test_idxs = class_tr_idxs[5], class_te_idxs[5];"
   ]
  },
  {
   "cell_type": "code",
   "execution_count": 90,
   "metadata": {},
   "outputs": [
    {
     "name": "stdout",
     "output_type": "stream",
     "text": [
      "287\n",
      "124\n",
      "140\n",
      "61\n"
     ]
    }
   ],
   "source": [
    "println(length(delta_scuti_train_idxs))\n",
    "println(length(delta_scuti_test_idxs))\n",
    "println(length(rot_var_train_idxs))\n",
    "println(length(rot_var_test_idxs))"
   ]
  },
  {
   "cell_type": "markdown",
   "metadata": {},
   "source": [
    "Window each time series instance."
   ]
  },
  {
   "cell_type": "code",
   "execution_count": 111,
   "metadata": {},
   "outputs": [
    {
     "data": {
      "text/plain": [
       "detect_flat_regions (generic function with 1 method)"
      ]
     },
     "metadata": {},
     "output_type": "display_data"
    }
   ],
   "source": [
    "function make_windows(ts::Vector{Float64}, window_size::Int, stride::Int)\n",
    "    n = length(ts)\n",
    "    windows = [ts[i:i+window_size-1] for i in 1:stride:n-window_size+1]\n",
    "    return windows\n",
    "end\n",
    "\n",
    "function detect_flat_regions(data)\n",
    "    flat_regions = []\n",
    "    for i in 2:length(data)\n",
    "        if data[i] == data[i-1]\n",
    "            push!(flat_regions, i)\n",
    "        end\n",
    "    end\n",
    "    return flat_regions\n",
    "end"
   ]
  },
  {
   "cell_type": "code",
   "execution_count": 136,
   "metadata": {},
   "outputs": [
    {
     "data": {
      "text/plain": [
       "4767-element Vector{Float64}:\n",
       "  1.80973820580466e-5\n",
       " -4.22017514206674e-5\n",
       "  1.44876603872524e-5\n",
       "  6.86631434265728e-6\n",
       "  2.15108426440125e-5\n",
       " -1.82617238188021e-5\n",
       "  1.57035102498204e-5\n",
       " -1.42192201736391e-5\n",
       "  6.97259212545376e-6\n",
       " -3.50287916291991e-5\n",
       "  ⋮\n",
       " -1.5866728569125e-5\n",
       " -1.68445669007644e-5\n",
       " -3.29104029017646e-6\n",
       "  1.2914732628877e-5\n",
       " -3.87098678944486e-6\n",
       " -3.15874284254614e-5\n",
       "  8.11234960595986e-6\n",
       "  2.45080112194485e-5\n",
       " -3.3003598399195e-5"
      ]
     },
     "metadata": {},
     "output_type": "display_data"
    }
   ],
   "source": [
    "samp = X_train[delta_scuti_train_idxs[2], :]"
   ]
  },
  {
   "cell_type": "code",
   "execution_count": 137,
   "metadata": {},
   "outputs": [],
   "source": [
    "windows = make_windows(samp, 100, 100);"
   ]
  },
  {
   "cell_type": "code",
   "execution_count": 138,
   "metadata": {},
   "outputs": [
    {
     "data": {
      "text/plain": [
       "2-element Vector{Int64}:\n",
       " 33\n",
       " 39"
      ]
     },
     "metadata": {},
     "output_type": "display_data"
    }
   ],
   "source": [
    "corrupted_idxs = findall(length.(detect_flat_regions.(windows)) .> 25)"
   ]
  },
  {
   "cell_type": "markdown",
   "metadata": {},
   "source": [
    "Keeping the original train/test splits"
   ]
  },
  {
   "cell_type": "code",
   "execution_count": 145,
   "metadata": {},
   "outputs": [],
   "source": [
    "X_train_delta_scuti = X_train[delta_scuti_train_idxs, :];\n",
    "X_test_delta_scuti = X_test[delta_scuti_test_idxs, :];\n",
    "X_train_rotvar = X_train[rot_var_train_idxs, :]\n",
    "X_test_rotvar = X_test[rot_var_test_idxs, :];"
   ]
  },
  {
   "cell_type": "code",
   "execution_count": null,
   "metadata": {},
   "outputs": [],
   "source": [
    "X_train_orig = vcat(X_train_delta_scuti, X_train_rotvar)\n",
    "X_test_orig = vcat(X_test_delta_scuti, X_test_rotvar);\n",
    "y_train_orig = vcat(zeros(Int64, size(X_train_delta_scuti, 1)), ones(Int64, size(X_train_rotvar, 1)));\n",
    "y_test_orig = vcat(zeros(Int64, size(X_test_delta_scuti, 1)), ones(Int64, size(X_test_rotvar, 1)));"
   ]
  },
  {
   "cell_type": "code",
   "execution_count": 173,
   "metadata": {},
   "outputs": [],
   "source": [
    "# jldopen(\"/Users/joshua/Desktop/QuantumInspiredMLFinal/QuantumInspiredML/Data/NASA_KeplerV2/datasets/KeplerBinaryOrigUnbal.jld2\", \"w\") do f\n",
    "#     f[\"X_train\"] = X_train_orig\n",
    "#     f[\"y_train\"] = y_train_orig\n",
    "#     f[\"X_test\"] = X_test_orig\n",
    "#     f[\"y_test\"] = y_test_orig\n",
    "# end;"
   ]
  },
  {
   "cell_type": "code",
   "execution_count": 176,
   "metadata": {},
   "outputs": [],
   "source": [
    "X_delta_scuti = vcat(X_train_delta_scuti, X_test_delta_scuti)\n",
    "X_rotvar = vcat(X_train_rotvar, X_test_rotvar);"
   ]
  },
  {
   "cell_type": "code",
   "execution_count": 177,
   "metadata": {},
   "outputs": [
    {
     "name": "stdout",
     "output_type": "stream",
     "text": [
      "411\n",
      "201\n"
     ]
    }
   ],
   "source": [
    "println(size(X_delta_scuti, 1))\n",
    "println(size(X_rotvar, 1))"
   ]
  },
  {
   "cell_type": "markdown",
   "metadata": {},
   "source": [
    "Making a balanced version..."
   ]
  },
  {
   "cell_type": "code",
   "execution_count": 193,
   "metadata": {},
   "outputs": [],
   "source": [
    "Random.seed!(42)\n",
    "X_delta_scuti_subset_idxs = sample(1:size(X_delta_scuti, 1), 201; replace=false);\n",
    "X_delta_scuti_subset = X_delta_scuti[X_delta_scuti_subset_idxs, :];"
   ]
  },
  {
   "cell_type": "markdown",
   "metadata": {},
   "source": [
    "Split into 80/20 train/test"
   ]
  },
  {
   "cell_type": "code",
   "execution_count": 196,
   "metadata": {},
   "outputs": [],
   "source": [
    "X_bal = vcat(X_delta_scuti_subset, X_rotvar)\n",
    "y_bal = vcat(zeros(Int64, size(X_delta_scuti_subset, 1)), ones(Int64, size(X_rotvar, 1)));"
   ]
  },
  {
   "cell_type": "code",
   "execution_count": 210,
   "metadata": {},
   "outputs": [],
   "source": [
    "Random.seed!(0)\n",
    "train_idxs = sample(1:size(X_bal, 1), 321; replace=false);\n",
    "test_idxs = setdiff(1:size(X_bal, 1), train_idxs);"
   ]
  },
  {
   "cell_type": "code",
   "execution_count": 223,
   "metadata": {},
   "outputs": [],
   "source": [
    "X_train_bal = X_bal[train_idxs, :];\n",
    "X_test_bal = X_bal[test_idxs, :];\n",
    "y_train_bal = y_bal[train_idxs]\n",
    "y_test_bal = y_bal[test_idxs];"
   ]
  },
  {
   "cell_type": "code",
   "execution_count": null,
   "metadata": {},
   "outputs": [],
   "source": [
    "# jldopen(\"/Users/joshua/Desktop/QuantumInspiredMLFinal/QuantumInspiredML/Data/NASA_KeplerV2/datasets/KeplerBinaryOrigBal.jld2\", \"w\") do f\n",
    "#     f[\"X_train\"] = X_train_bal\n",
    "#     f[\"y_train\"] = y_train_bal\n",
    "#     f[\"X_test\"] = X_test_bal\n",
    "#     f[\"y_test\"] = y_test_bal\n",
    "# end;"
   ]
  }
 ],
 "metadata": {
  "kernelspec": {
   "display_name": "Julia 1.11.1",
   "language": "julia",
   "name": "julia-1.11"
  },
  "language_info": {
   "file_extension": ".jl",
   "mimetype": "application/julia",
   "name": "julia",
   "version": "1.11.1"
  }
 },
 "nbformat": 4,
 "nbformat_minor": 2
}
