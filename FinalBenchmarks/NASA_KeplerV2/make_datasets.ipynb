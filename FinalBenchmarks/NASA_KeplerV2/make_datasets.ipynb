{
 "cells": [
  {
   "cell_type": "code",
   "execution_count": 65,
   "metadata": {},
   "outputs": [],
   "source": [
    "using JLD2 \n",
    "using Plots\n",
    "using StatsBase\n",
    "using Random"
   ]
  },
  {
   "cell_type": "code",
   "execution_count": 19,
   "metadata": {},
   "outputs": [],
   "source": [
    "f = jldopen(\"../../Data/NASA_KeplerV2/datasets/KeplerLightCurveOrig.jld2\", \"r\");\n",
    "X_train = read(f, \"X_train\");\n",
    "X_test = read(f, \"X_test\");\n",
    "y_train = read(f, \"y_train\")\n",
    "y_test = read(f, \"y_test\");"
   ]
  },
  {
   "cell_type": "code",
   "execution_count": 20,
   "metadata": {},
   "outputs": [],
   "source": [
    "# isolate class 0 (contact EB)\n",
    "contact_eb_tr_idxs = findall(x -> x .== 0, y_train);\n",
    "contact_eb_te_idxs = findall(x -> x .==0, y_test);\n",
    "X_train_contact_eb = X_train[contact_eb_tr_idxs, :]\n",
    "X_test_contact_eb = X_test[contact_eb_te_idxs, :];\n",
    "y_train_contact_eb = zeros(Int, size(X_train_contact_eb, 1));\n",
    "y_test_contact_eb = zeros(Int, size(X_test_contact_eb, 1));"
   ]
  },
  {
   "cell_type": "code",
   "execution_count": 21,
   "metadata": {},
   "outputs": [
    {
     "data": {
      "text/plain": [
       "detect_flat_regions (generic function with 1 method)"
      ]
     },
     "metadata": {},
     "output_type": "display_data"
    }
   ],
   "source": [
    "function detect_flat_regions(data)\n",
    "    flat_regions = []\n",
    "    for i in 2:length(data)\n",
    "        if data[i] == data[i-1]\n",
    "            push!(flat_regions, i)\n",
    "        end\n",
    "    end\n",
    "    return flat_regions\n",
    "end"
   ]
  },
  {
   "cell_type": "code",
   "execution_count": 22,
   "metadata": {},
   "outputs": [
    {
     "data": {
      "text/plain": [
       "make_overlapping_windows (generic function with 1 method)"
      ]
     },
     "metadata": {},
     "output_type": "display_data"
    }
   ],
   "source": [
    "function make_overlapping_windows(ts::Vector{Float64}, window_size::Int, stride::Int)\n",
    "    n = length(ts)\n",
    "    windows = [ts[i:i+window_size-1] for i in 1:stride:n-window_size+1]\n",
    "    return windows\n",
    "end"
   ]
  },
  {
   "cell_type": "code",
   "execution_count": 144,
   "metadata": {},
   "outputs": [
    {
     "data": {
      "text/plain": [
       "split_train_test (generic function with 2 methods)"
      ]
     },
     "metadata": {},
     "output_type": "display_data"
    }
   ],
   "source": [
    "function split_train_test(windows::Vector, exclude_indexes::Vector{Int}, train_size::Int)\n",
    "    test_size = length(windows) - train_size\n",
    "    test_indexes = exclude_indexes\n",
    "    remaining_indexes = setdiff(1:length(windows), exclude_indexes)\n",
    "    # now select the training set from the remaining indices\n",
    "    train_idxs = shuffle(remaining_indexes)[1:train_size]\n",
    "    test_idxs = vcat(test_indexes, setdiff(remaining_indexes, train_idxs))\n",
    "    return train_idxs, test_idxs\n",
    "end"
   ]
  },
  {
   "cell_type": "code",
   "execution_count": 145,
   "metadata": {},
   "outputs": [
    {
     "data": {
      "text/plain": [
       "([51, 38, 50, 30, 23, 42, 33, 2, 34, 19  …  18, 40, 31, 37, 13, 49, 10, 17, 22, 11], [20, 21, 36, 43, 8, 9])"
      ]
     },
     "metadata": {},
     "output_type": "display_data"
    }
   ],
   "source": [
    "train_idxs, test_idxs = split_train_test(windows, corrupted_window_idxs, 46)"
   ]
  },
  {
   "cell_type": "code",
   "execution_count": 146,
   "metadata": {},
   "outputs": [],
   "source": [
    "X_train = vcat(windows[train_idxs]'...)\n",
    "X_test = vcat(windows[test_idxs]'...);\n",
    "y_train = zeros(Int64, size(X_train, 1));\n",
    "y_test = zeros(Int64, size(X_test, 1));"
   ]
  },
  {
   "cell_type": "code",
   "execution_count": 149,
   "metadata": {},
   "outputs": [
    {
     "data": {
      "text/plain": [
       "119"
      ]
     },
     "metadata": {},
     "output_type": "display_data"
    }
   ],
   "source": [
    "for i in 1:size(X_train_contact_eb, 1)\n",
    "    samp = X_train_contact_eb[3,:];\n",
    "    windows = make_overlapping_windows(samp, 100, 90)\n",
    "    corrupted_window_idxs = findall(length.(detect_flat_regions.(windows)) .> 4)\n",
    "    "
   ]
  },
  {
   "cell_type": "code",
   "execution_count": 147,
   "metadata": {},
   "outputs": [],
   "source": [
    "jldopen(\"contact_ebTest.jld2\", \"w\") do f\n",
    "    f[\"X_train\"] = X_train\n",
    "    f[\"X_test\"] = X_test\n",
    "    f[\"y_train\"] = y_train\n",
    "    f[\"y_test\"] = y_test\n",
    "end;"
   ]
  }
 ],
 "metadata": {
  "kernelspec": {
   "display_name": "Julia 1.11.1",
   "language": "julia",
   "name": "julia-1.11"
  },
  "language_info": {
   "file_extension": ".jl",
   "mimetype": "application/julia",
   "name": "julia",
   "version": "1.11.1"
  }
 },
 "nbformat": 4,
 "nbformat_minor": 2
}
