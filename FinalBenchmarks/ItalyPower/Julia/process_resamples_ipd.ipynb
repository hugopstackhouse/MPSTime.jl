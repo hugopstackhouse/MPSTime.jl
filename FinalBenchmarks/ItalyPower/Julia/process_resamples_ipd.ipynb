{
 "cells": [
  {
   "cell_type": "code",
   "execution_count": 12,
   "metadata": {},
   "outputs": [],
   "source": [
    "using JSON\n",
    "using Plots\n",
    "using JLD2\n",
    "using DelimitedFiles"
   ]
  },
  {
   "cell_type": "code",
   "execution_count": 13,
   "metadata": {},
   "outputs": [],
   "source": [
    "rs_folds_python = JSON.Parser.parsefile(\"../Python/ipd_resample_folds_python_idx.json\");"
   ]
  },
  {
   "cell_type": "code",
   "execution_count": 14,
   "metadata": {},
   "outputs": [
    {
     "data": {
      "text/plain": [
       "67-element Vector{Any}:\n",
       "  399\n",
       "  472\n",
       " 1057\n",
       "  928\n",
       "  890\n",
       "  154\n",
       "   36\n",
       "  983\n",
       "  455\n",
       "  166\n",
       "    ⋮\n",
       "  628\n",
       " 1031\n",
       "   43\n",
       "  377\n",
       "  522\n",
       "  112\n",
       "  474\n",
       "  415\n",
       "  107"
      ]
     },
     "metadata": {},
     "output_type": "display_data"
    }
   ],
   "source": [
    "rs_folds_python[\"6\"][\"train\"]"
   ]
  },
  {
   "cell_type": "code",
   "execution_count": 15,
   "metadata": {},
   "outputs": [],
   "source": [
    "rs_folds_julia = Dict();\n",
    "for i in 0:29\n",
    "    train_idxs = rs_folds_python[\"$i\"][\"train\"] .+ 1\n",
    "    test_idxs = rs_folds_python[\"$i\"][\"test\"] .+ 1\n",
    "    rs_folds_julia[i] = Dict(\"train\" => train_idxs, \"test\" => test_idxs)\n",
    "end"
   ]
  },
  {
   "cell_type": "code",
   "execution_count": null,
   "metadata": {},
   "outputs": [],
   "source": []
  },
  {
   "cell_type": "code",
   "execution_count": 16,
   "metadata": {},
   "outputs": [
    {
     "data": {
      "text/plain": [
       "Dict{String, Vector{Int64}} with 2 entries:\n",
       "  \"test\"  => [68, 69, 70, 71, 72, 73, 74, 75, 76, 77  …  1087, 1088, 1089, 1090…\n",
       "  \"train\" => [1, 2, 3, 4, 5, 6, 7, 8, 9, 10  …  58, 59, 60, 61, 62, 63, 64, 65,…"
      ]
     },
     "metadata": {},
     "output_type": "display_data"
    }
   ],
   "source": [
    "rs_folds_julia[0]"
   ]
  },
  {
   "cell_type": "code",
   "execution_count": 17,
   "metadata": {},
   "outputs": [],
   "source": [
    "JLD2.@save \"ipd_resample_folds_julia_idx.jld2\" rs_folds_julia"
   ]
  },
  {
   "cell_type": "code",
   "execution_count": 18,
   "metadata": {},
   "outputs": [],
   "source": [
    "windows_python = JSON.Parser.parsefile(\"../Python/ipd_windows_python_idx.json\");"
   ]
  },
  {
   "cell_type": "code",
   "execution_count": 19,
   "metadata": {},
   "outputs": [
    {
     "data": {
      "text/plain": [
       "Dict{String, Any} with 10 entries:\n",
       "  \"0.45\" => Any[Any[12, 13, 14, 15, 16, 17, 18, 19, 20, 21, 22], Any[10, 11, 12…\n",
       "  \"0.75\" => Any[Any[0, 1, 2, 3, 4, 5, 6, 7, 8, 9, 10, 11, 12, 13, 14, 15, 16, 1…\n",
       "  \"0.85\" => Any[Any[2, 3, 4, 5, 6, 7, 8, 9, 10, 11, 12, 13, 14, 15, 16, 17, 18,…\n",
       "  \"0.65\" => Any[Any[6, 7, 8, 9, 10, 11, 12, 13, 14, 15, 16, 17, 18, 19, 20, 21]…\n",
       "  \"0.05\" => Any[Any[6], Any[5], Any[10], Any[3], Any[22], Any[7], Any[1], Any[1…\n",
       "  \"0.95\" => Any[Any[0, 1, 2, 3, 4, 5, 6, 7, 8, 9  …  13, 14, 15, 16, 17, 18, 19…\n",
       "  \"0.25\" => Any[Any[15, 16, 17, 18, 19, 20], Any[2, 3, 4, 5, 6, 7], Any[9, 10, …\n",
       "  \"0.15\" => Any[Any[8, 9, 10, 11], Any[10, 11, 12, 13], Any[3, 4, 5, 6], Any[18…\n",
       "  \"0.55\" => Any[Any[8, 9, 10, 11, 12, 13, 14, 15, 16, 17, 18, 19, 20], Any[7, 8…\n",
       "  \"0.35\" => Any[Any[6, 7, 8, 9, 10, 11, 12, 13], Any[4, 5, 6, 7, 8, 9, 10, 11],…"
      ]
     },
     "metadata": {},
     "output_type": "display_data"
    }
   ],
   "source": [
    "windows_python"
   ]
  },
  {
   "cell_type": "code",
   "execution_count": 20,
   "metadata": {},
   "outputs": [],
   "source": [
    "windows_julia = Dict();\n",
    "for i in 0.05:0.10:0.95\n",
    "    new_pm = Int(round(i * 100))\n",
    "    windows = windows_python[\"$i\"]\n",
    "    w_converted = [w .+ 1 for w in windows]\n",
    "    windows_julia[new_pm] = w_converted\n",
    "end"
   ]
  },
  {
   "cell_type": "code",
   "execution_count": 21,
   "metadata": {},
   "outputs": [
    {
     "data": {
      "text/plain": [
       "Dict{Any, Any} with 10 entries:\n",
       "  5  => [[7], [6], [11], [4], [23], [8], [2], [20], [14], [5], [22], [1], [9], …\n",
       "  15 => [[9, 10, 11, 12], [11, 12, 13, 14], [4, 5, 6, 7], [19, 20, 21, 22], [5,…\n",
       "  35 => [[7, 8, 9, 10, 11, 12, 13, 14], [5, 6, 7, 8, 9, 10, 11, 12], [4, 5, 6, …\n",
       "  25 => [[16, 17, 18, 19, 20, 21], [3, 4, 5, 6, 7, 8], [10, 11, 12, 13, 14, 15]…\n",
       "  45 => [[13, 14, 15, 16, 17, 18, 19, 20, 21, 22, 23], [11, 12, 13, 14, 15, 16,…\n",
       "  55 => [[9, 10, 11, 12, 13, 14, 15, 16, 17, 18, 19, 20, 21], [8, 9, 10, 11, 12…\n",
       "  65 => [[7, 8, 9, 10, 11, 12, 13, 14, 15, 16, 17, 18, 19, 20, 21, 22], [4, 5, …\n",
       "  95 => [[1, 2, 3, 4, 5, 6, 7, 8, 9, 10  …  14, 15, 16, 17, 18, 19, 20, 21, 22,…\n",
       "  85 => [[3, 4, 5, 6, 7, 8, 9, 10, 11, 12, 13, 14, 15, 16, 17, 18, 19, 20, 21, …\n",
       "  75 => [[1, 2, 3, 4, 5, 6, 7, 8, 9, 10, 11, 12, 13, 14, 15, 16, 17, 18], [6, 7…"
      ]
     },
     "metadata": {},
     "output_type": "display_data"
    }
   ],
   "source": [
    "windows_julia"
   ]
  },
  {
   "cell_type": "code",
   "execution_count": 23,
   "metadata": {},
   "outputs": [],
   "source": [
    "JLD2.@save \"ipd_windows_julia_idx.jld2\" windows_julia"
   ]
  },
  {
   "cell_type": "code",
   "execution_count": null,
   "metadata": {},
   "outputs": [],
   "source": []
  }
 ],
 "metadata": {
  "kernelspec": {
   "display_name": "Julia 1.11.1",
   "language": "julia",
   "name": "julia-1.11"
  },
  "language_info": {
   "file_extension": ".jl",
   "mimetype": "application/julia",
   "name": "julia",
   "version": "1.11.1"
  }
 },
 "nbformat": 4,
 "nbformat_minor": 2
}
