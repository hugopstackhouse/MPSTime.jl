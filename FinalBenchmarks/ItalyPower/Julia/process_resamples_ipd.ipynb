{
 "cells": [
  {
   "cell_type": "code",
   "execution_count": 15,
   "metadata": {},
   "outputs": [],
   "source": [
    "using JSON\n",
    "using Plots\n",
    "using JLD2\n",
    "using DelimitedFiles"
   ]
  },
  {
   "cell_type": "code",
   "execution_count": 16,
   "metadata": {},
   "outputs": [],
   "source": [
    "rs_folds_python = JSON.Parser.parsefile(\"../Python/ipd_resample_folds_python_idx.json\");"
   ]
  },
  {
   "cell_type": "code",
   "execution_count": 17,
   "metadata": {},
   "outputs": [],
   "source": [
    "rs_folds_julia = Dict();\n",
    "for i in 0:29\n",
    "    train_idxs = rs_folds_python[\"$i\"][\"train\"] .+ 1\n",
    "    test_idxs = rs_folds_python[\"$i\"][\"test\"] .+ 1\n",
    "    rs_folds_julia[i] = Dict(\"train\" => train_idxs, \"test\" => test_idxs)\n",
    "end"
   ]
  },
  {
   "cell_type": "code",
   "execution_count": 18,
   "metadata": {},
   "outputs": [
    {
     "data": {
      "text/plain": [
       "Dict{String, Vector{Int64}} with 2 entries:\n",
       "  \"test\"  => [68, 69, 70, 71, 72, 73, 74, 75, 76, 77  …  1087, 1088, 1089, 1090…\n",
       "  \"train\" => [1, 2, 3, 4, 5, 6, 7, 8, 9, 10  …  58, 59, 60, 61, 62, 63, 64, 65,…"
      ]
     },
     "metadata": {},
     "output_type": "display_data"
    }
   ],
   "source": [
    "rs_folds_julia[0]"
   ]
  },
  {
   "cell_type": "code",
   "execution_count": 8,
   "metadata": {},
   "outputs": [],
   "source": [
    "JLD2.@save \"ipd_resample_folds_julia_idx.jld2\" rs_folds_julia"
   ]
  },
  {
   "cell_type": "code",
   "execution_count": 19,
   "metadata": {},
   "outputs": [],
   "source": [
    "windows_python = JSON.Parser.parsefile(\"../Python/ipd_windows_python_idx.json\");"
   ]
  },
  {
   "cell_type": "code",
   "execution_count": 20,
   "metadata": {},
   "outputs": [
    {
     "data": {
      "text/plain": [
       "Dict{String, Any} with 10 entries:\n",
       "  \"0.45\" => Any[Any[12, 13, 14, 15, 16, 17, 18, 19, 20, 21, 22], Any[6, 7, 8, 9…\n",
       "  \"0.75\" => Any[Any[5, 6, 7, 8, 9, 10, 11, 12, 13, 14, 15, 16, 17, 18, 19, 20, …\n",
       "  \"0.85\" => Any[Any[2, 3, 4, 5, 6, 7, 8, 9, 10, 11, 12, 13, 14, 15, 16, 17, 18,…\n",
       "  \"0.65\" => Any[Any[6, 7, 8, 9, 10, 11, 12, 13, 14, 15, 16, 17, 18, 19, 20, 21]…\n",
       "  \"0.05\" => Any[Any[15], Any[12], Any[20], Any[18], Any[9], Any[13], Any[16], A…\n",
       "  \"0.95\" => Any[Any[0, 1, 2, 3, 4, 5, 6, 7, 8, 9  …  13, 14, 15, 16, 17, 18, 19…\n",
       "  \"0.25\" => Any[Any[12, 13, 14, 15, 16, 17], Any[16, 17, 18, 19, 20, 21], Any[1…\n",
       "  \"0.15\" => Any[Any[7, 8, 9, 10], Any[4, 5, 6, 7], Any[17, 18, 19, 20], Any[16,…\n",
       "  \"0.55\" => Any[Any[10, 11, 12, 13, 14, 15, 16, 17, 18, 19, 20, 21, 22], Any[3,…\n",
       "  \"0.35\" => Any[Any[5, 6, 7, 8, 9, 10, 11, 12], Any[7, 8, 9, 10, 11, 12, 13, 14…"
      ]
     },
     "metadata": {},
     "output_type": "display_data"
    }
   ],
   "source": [
    "windows_python"
   ]
  },
  {
   "cell_type": "code",
   "execution_count": 21,
   "metadata": {},
   "outputs": [],
   "source": [
    "windows_julia = Dict();\n",
    "for i in 0.05:0.10:0.95\n",
    "    new_pm = Int(round(i * 100))\n",
    "    windows = windows_python[\"$i\"]\n",
    "    w_converted = [w .+ 1 for w in windows]\n",
    "    windows_julia[new_pm] = w_converted\n",
    "end"
   ]
  },
  {
   "cell_type": "code",
   "execution_count": 22,
   "metadata": {},
   "outputs": [
    {
     "data": {
      "text/plain": [
       "Dict{Any, Any} with 10 entries:\n",
       "  5  => [[16], [13], [21], [19], [10], [14], [17], [11], [23], [6], [8], [2], […\n",
       "  15 => [[8, 9, 10, 11], [5, 6, 7, 8], [18, 19, 20, 21], [17, 18, 19, 20], [14,…\n",
       "  35 => [[6, 7, 8, 9, 10, 11, 12, 13], [8, 9, 10, 11, 12, 13, 14, 15], [9, 10, …\n",
       "  25 => [[13, 14, 15, 16, 17, 18], [17, 18, 19, 20, 21, 22], [18, 19, 20, 21, 2…\n",
       "  45 => [[13, 14, 15, 16, 17, 18, 19, 20, 21, 22, 23], [7, 8, 9, 10, 11, 12, 13…\n",
       "  55 => [[11, 12, 13, 14, 15, 16, 17, 18, 19, 20, 21, 22, 23], [4, 5, 6, 7, 8, …\n",
       "  65 => [[7, 8, 9, 10, 11, 12, 13, 14, 15, 16, 17, 18, 19, 20, 21, 22], [1, 2, …\n",
       "  95 => [[1, 2, 3, 4, 5, 6, 7, 8, 9, 10  …  14, 15, 16, 17, 18, 19, 20, 21, 22,…\n",
       "  85 => [[3, 4, 5, 6, 7, 8, 9, 10, 11, 12, 13, 14, 15, 16, 17, 18, 19, 20, 21, …\n",
       "  75 => [[6, 7, 8, 9, 10, 11, 12, 13, 14, 15, 16, 17, 18, 19, 20, 21, 22, 23], …"
      ]
     },
     "metadata": {},
     "output_type": "display_data"
    }
   ],
   "source": [
    "windows_julia"
   ]
  },
  {
   "cell_type": "code",
   "execution_count": 23,
   "metadata": {},
   "outputs": [],
   "source": [
    "JLD2.@save \"ipd_windows_julia_idx.jld2\" windows_julia"
   ]
  },
  {
   "cell_type": "code",
   "execution_count": null,
   "metadata": {},
   "outputs": [],
   "source": []
  }
 ],
 "metadata": {
  "kernelspec": {
   "display_name": "Julia 1.11.1",
   "language": "julia",
   "name": "julia-1.11"
  },
  "language_info": {
   "file_extension": ".jl",
   "mimetype": "application/julia",
   "name": "julia",
   "version": "1.11.1"
  }
 },
 "nbformat": 4,
 "nbformat_minor": 2
}
