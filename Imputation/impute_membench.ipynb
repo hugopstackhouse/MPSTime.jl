{
 "cells": [
  {
   "cell_type": "code",
   "execution_count": null,
   "metadata": {},
   "outputs": [],
   "source": [
    "using Pkg\n",
    "Pkg.activate(\"../../Project.toml\")\n",
    "\n",
    "include(\"../../LogLoss/RealRealHighDimension.jl\")\n",
    "include(\"../imputation.jl\");\n",
    "using JLD2\n",
    "using DataFrames\n",
    "using StatProfilerHTML\n",
    "using BenchmarkTools"
   ]
  }
 ],
 "metadata": {
  "kernelspec": {
   "display_name": "Julia 1.11.1",
   "language": "julia",
   "name": "julia-1.11"
  },
  "language_info": {
   "file_extension": ".jl",
   "mimetype": "application/julia",
   "name": "julia",
   "version": "1.11.1"
  }
 },
 "nbformat": 4,
 "nbformat_minor": 2
}
