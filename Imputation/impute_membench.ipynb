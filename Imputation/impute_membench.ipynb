{
 "cells": [
  {
   "cell_type": "code",
   "execution_count": 1,
   "metadata": {},
   "outputs": [
    {
     "name": "stderr",
     "output_type": "stream",
     "text": [
      "\u001b[32m\u001b[1m  Activating\u001b[22m\u001b[39m project at `~/Documents/QML Project/QuantumInspiredML`\n"
     ]
    }
   ],
   "source": [
    "using Pkg\n",
    "Pkg.activate(\"../Project.toml\")\n",
    "\n",
    "include(\"../LogLoss/RealRealHighDimension.jl\")\n",
    "include(\"imputation.jl\");\n",
    "using JLD2\n",
    "using DataFrames\n",
    "using StatProfilerHTML\n",
    "using BenchmarkTools"
   ]
  },
  {
   "cell_type": "code",
   "execution_count": 2,
   "metadata": {},
   "outputs": [
    {
     "name": "stdout",
     "output_type": "stream",
     "text": [
      "++++++++++++++++++++++++++++++++++++++++++++++++++++++++++++\n",
      "                         Summary:\n",
      "\n",
      " - Dataset has 100 training samples and 100 testing samples.\n",
      " - 2 class(es) was detected. Slicing MPS into individual states...\n",
      " - Time independent encoding - Sahand-Legendre Time Independent - detected.\n",
      " - d = 20, chi_max = 100\n",
      "Re-encoding the training data to get the encoding arguments...\n",
      "\n",
      " Created 2 forecastable struct(s) containing class-wise mps and test samples.\n"
     ]
    }
   ],
   "source": [
    "# svpath_slb = \"../Data/ecg200/mps_saves/sahand_legendre_ns_d20_chi100_range.jld2\" #legendre_no_norm_ns_d16_chi60.jld2\" #legendreNN2_ns_d8_chi35.jld2\"\n",
    "svpath_sl = \"../Data/ecg200/mps_saves/sahand_legendre_ns_d20_chi100.jld2\"\n",
    "# svpath_leg = \"../Data/ecg200/mps_saves/legendre_no_norm10_ns_d20_chi100.jld2\" #legendre_no_norm_ns_d16_chi60.jld2\" #legendreNN2_ns_d8_chi35.jld2\"\n",
    "\n",
    "dloc =  \"../Data/ecg200/datasets/ecg200.jld2\"\n",
    "\n",
    "\n",
    "\n",
    "f = jldopen(dloc, \"r\")\n",
    "    X_train = read(f, \"X_train\")\n",
    "    y_train = read(f, \"y_train\")\n",
    "    X_test = read(f, \"X_test\")\n",
    "    y_test = read(f, \"y_test\")\n",
    "close(f)\n",
    "\n",
    "\n",
    "\n",
    "###################################3\n",
    "\n",
    "f = jldopen(svpath_sl, \"r\")\n",
    "    mps_sl = read(f, \"mps\")\n",
    "    opts_sl = read(f, \"opts\")\n",
    "close(f)\n",
    "\n",
    "opts_sl, _... = safe_options(opts_sl, nothing, nothing)\n",
    "\n",
    "fc_sl = load_forecasting_info_variables(mps_sl, X_train, y_train, X_test, y_test, opts_sl);\n",
    "\n",
    "\n",
    "\n"
   ]
  },
  {
   "cell_type": "code",
   "execution_count": null,
   "metadata": {},
   "outputs": [],
   "source": []
  }
 ],
 "metadata": {
  "kernelspec": {
   "display_name": "Julia 1.11.1",
   "language": "julia",
   "name": "julia-1.11"
  },
  "language_info": {
   "file_extension": ".jl",
   "mimetype": "application/julia",
   "name": "julia",
   "version": "1.11.1"
  }
 },
 "nbformat": 4,
 "nbformat_minor": 2
}
