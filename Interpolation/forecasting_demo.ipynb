{
 "cells": [
  {
   "cell_type": "code",
   "execution_count": 5,
   "metadata": {},
   "outputs": [],
   "source": [
    "include(\"../LogLoss/RealRealHighDimension.jl\")\n",
    "include(\"./ForecastingMainNew.jl\");\n",
    "using JLD2"
   ]
  },
  {
   "cell_type": "markdown",
   "metadata": {},
   "source": [
    "Load in the data containing the following:\n",
    "- X_train_scaled\n",
    "- y_train\n",
    "- X_test_scaled\n",
    "- y_test\n",
    "- mps\n",
    "- opts"
   ]
  },
  {
   "cell_type": "code",
   "execution_count": 15,
   "metadata": {},
   "outputs": [
    {
     "data": {
      "text/plain": [
       "JLDFile /Users/joshua/Desktop/QTNML_paper/QuantumInspiredML/Interpolation/paper/italypower/mps_saves/ipd_legendre_chi60_d12_twoClass.jld2 (read-only)\n",
       " ├─🔢 X_train_scaled\n",
       " ├─🔢 y_train\n",
       " ├─🔢 X_test_scaled\n",
       " ├─🔢 y_test\n",
       " ├─🔢 mps\n",
       " └─🔢 opts"
      ]
     },
     "metadata": {},
     "output_type": "display_data"
    }
   ],
   "source": [
    "dloc = \"/Users/joshua/Desktop/QTNML_paper/QuantumInspiredML/Interpolation/paper/italypower/mps_saves/ipd_legendre_chi60_d12_twoClass.jld2\";\n",
    "f = jldopen(dloc, \"r\");"
   ]
  },
  {
   "cell_type": "code",
   "execution_count": null,
   "metadata": {},
   "outputs": [],
   "source": [
    "opts=Options(; nsweeps=12, chi_max=60, update_iters=1, verbosity=verbosity, dtype=dtype, loss_grad=loss_grad_KLD,\n",
    "bbopt=BBOpt(\"CustomGD\"), track_cost=track_cost, eta=0.0025, rescale = (false, true), d=12, aux_basis_dim=2, encoding=encoding, \n",
    "encode_classes_separately=encode_classes_separately, train_classes_separately=train_classes_separately)\n"
   ]
  },
  {
   "cell_type": "code",
   "execution_count": null,
   "metadata": {},
   "outputs": [],
   "source": []
  }
 ],
 "metadata": {
  "kernelspec": {
   "display_name": "Julia 1.10.2",
   "language": "julia",
   "name": "julia-1.10"
  },
  "language_info": {
   "file_extension": ".jl",
   "mimetype": "application/julia",
   "name": "julia",
   "version": "1.10.2"
  }
 },
 "nbformat": 4,
 "nbformat_minor": 2
}
