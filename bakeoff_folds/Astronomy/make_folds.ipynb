{
 "cells": [
  {
   "cell_type": "code",
   "execution_count": 37,
   "metadata": {},
   "outputs": [],
   "source": [
    "import numpy as np\n",
    "import pandas as pd\n",
    "from tsml_eval.utils import resampling"
   ]
  },
  {
   "cell_type": "code",
   "execution_count": 82,
   "metadata": {},
   "outputs": [
    {
     "name": "stdout",
     "output_type": "stream",
     "text": [
      "(321, 4767)\n",
      "(321,)\n",
      "(81, 4767)\n",
      "(81,)\n"
     ]
    }
   ],
   "source": [
    "astro_train = np.loadtxt(\"KeplerBinaryOrigBal_TRAIN.txt\")\n",
    "astro_test = np.loadtxt(\"KeplerBinaryOrigBal_TEST.txt\")\n",
    "astro_X_train = astro_train[:, 1:]\n",
    "astro_y_train = (astro_train[:, 0]).astype(int)\n",
    "astro_X_test = astro_test[:, 1:]\n",
    "astro_y_test = (astro_test[:, 0]).astype(int)\n",
    "print(astro_X_train.shape)\n",
    "print(astro_y_train.shape)\n",
    "print(astro_X_test.shape)\n",
    "print(astro_y_test.shape)\n",
    "Xs = np.vstack([astro_X_train, astro_X_test])\n",
    "ys = np.concatenate([astro_y_train, astro_y_test])"
   ]
  },
  {
   "cell_type": "markdown",
   "metadata": {},
   "source": [
    "Make folds using stratified resampling"
   ]
  },
  {
   "cell_type": "code",
   "execution_count": 93,
   "metadata": {},
   "outputs": [],
   "source": [
    "resample_ids = np.arange(1, 30)\n",
    "for rid in resample_ids:\n",
    "    (train, test) = resampling.stratified_resample_data_indices(astro_y_train, astro_y_test, random_state=rid)\n",
    "    train = train.astype(int)\n",
    "    test = test.astype(int)\n",
    "    np.savetxt(f\"resample{rid}Indices_TRAIN.txt\", train.astype(int), fmt='%d')\n",
    "    np.savetxt(f\"resample{rid}Indices_TEST.txt\", test.astype(int), fmt='%d')"
   ]
  },
  {
   "cell_type": "code",
   "execution_count": 89,
   "metadata": {},
   "outputs": [],
   "source": [
    "(train, test) = resampling.stratified_resample_data_indices(astro_y_train, astro_y_test, random_state=0)"
   ]
  },
  {
   "cell_type": "code",
   "execution_count": 91,
   "metadata": {},
   "outputs": [
    {
     "data": {
      "text/plain": [
       "array([276, 359, 135, 220, 268, 157, 111,  13, 345, 264, 259, 360, 241,\n",
       "        96, 175,  50, 326, 236, 322, 113, 263, 309, 163, 172,  81,  46,\n",
       "       123, 158, 245, 356, 138, 272,  71, 314, 206, 102, 267, 134, 302,\n",
       "       212,   3, 150, 347,  69, 330, 327, 324, 351,  53, 146, 358, 110,\n",
       "       348, 143, 333, 338,  86,  12, 238,  77, 147, 310,  17,  67, 112,\n",
       "       262, 145, 214, 178, 197, 344,  59,  73,  72, 156, 159, 277, 120,\n",
       "        58, 192, 341, 132, 243,  87, 198, 270, 340,  20, 133, 230, 350,\n",
       "       301,  36, 332,   8,  93, 200, 355, 224,  95, 161,   0, 189, 346,\n",
       "       354, 229, 352, 289, 115,  32, 166,  34, 140, 130,  78, 221, 357,\n",
       "       337, 323, 183, 252,  75, 343,  33, 103, 153, 173,  37, 265,   9,\n",
       "       100, 174, 342, 162,  99,  14,  24, 155, 269,  61, 339, 331, 278,\n",
       "        84, 117, 349,  31, 334,   6, 361, 249,  85, 329, 223, 187,  54,\n",
       "        80, 152, 257, 109, 144, 366, 281,  22, 210,  29, 232, 213,  94,\n",
       "       195, 165,  70,  68, 240, 378, 304, 400, 235, 286, 307, 128,  42,\n",
       "        64, 136,  83,  66, 193, 105, 191, 234,  25, 385, 390, 293, 280,\n",
       "        55, 124, 369, 373, 296,  88,  49, 377, 122,  40, 315, 401, 237,\n",
       "       149, 204, 279,  82, 380,   2, 395, 253, 216, 248, 219,  28,  65,\n",
       "       208, 207, 388, 154, 273,  92, 239, 379, 202, 394, 167, 287, 284,\n",
       "       196, 396,  39, 258, 266, 375, 362, 376, 367,   4, 127, 381, 365,\n",
       "       104, 169, 274, 199,  11,  18, 125, 392, 217,   7, 290, 316, 295,\n",
       "       222, 391,  38, 131, 275, 203, 250, 137,  48, 185, 382,  51,  97,\n",
       "       176, 107,  30, 370, 151,  57, 247, 374, 363, 291, 228, 242,  27,\n",
       "       298, 372, 313, 101, 384,  91,  79, 368, 260, 254, 386, 308, 300,\n",
       "       186, 118, 364, 397,  89, 283, 148, 398, 288,  76, 297, 129, 168,\n",
       "       389, 261, 311, 184, 285, 246, 182,  16, 160])"
      ]
     },
     "execution_count": 91,
     "metadata": {},
     "output_type": "execute_result"
    }
   ],
   "source": [
    "train"
   ]
  },
  {
   "cell_type": "markdown",
   "metadata": {},
   "source": [
    "Save resample 0 indices as the original fold"
   ]
  },
  {
   "cell_type": "code",
   "execution_count": 96,
   "metadata": {},
   "outputs": [],
   "source": [
    "train_f0 = np.arange(len(astro_y_train))\n",
    "test_f0 = np.arange(len(astro_y_train), len(astro_y_train)+len(astro_y_test))"
   ]
  },
  {
   "cell_type": "code",
   "execution_count": null,
   "metadata": {},
   "outputs": [],
   "source": [
    "# rid = 0\n",
    "# np.savetxt(f\"resample{rid}Indices_TRAIN.txt\", train_f0.astype(int), fmt='%d')\n",
    "# np.savetxt(f\"resample{rid}Indices_TEST.txt\", test_f0.astype(int), fmt='%d')"
   ]
  },
  {
   "cell_type": "code",
   "execution_count": null,
   "metadata": {},
   "outputs": [],
   "source": []
  }
 ],
 "metadata": {
  "kernelspec": {
   "display_name": "fsfa",
   "language": "python",
   "name": "python3"
  },
  "language_info": {
   "codemirror_mode": {
    "name": "ipython",
    "version": 3
   },
   "file_extension": ".py",
   "mimetype": "text/x-python",
   "name": "python",
   "nbconvert_exporter": "python",
   "pygments_lexer": "ipython3",
   "version": "3.10.16"
  }
 },
 "nbformat": 4,
 "nbformat_minor": 2
}
